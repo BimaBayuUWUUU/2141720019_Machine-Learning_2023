{
 "cells": [
  {
   "cell_type": "markdown",
   "metadata": {
    "id": "vLxW--eGA4sS"
   },
   "source": [
    "# **Tugas Praktikum**"
   ]
  },
  {
   "cell_type": "markdown",
   "metadata": {
    "id": "qmdqaVqWCPZ7"
   },
   "source": [
    "## **Modifikasi model CNN pada praktikum 2 sehingga didapatkan akurasi testing lebih dari 80%.**"
   ]
  },
  {
   "cell_type": "markdown",
   "metadata": {
    "id": "J1nuR5ZkET8i"
   },
   "source": [
    "### **1. Import Library**"
   ]
  },
  {
   "cell_type": "code",
   "execution_count": 2,
   "metadata": {
    "id": "bOO0xBb1Cdb_"
   },
   "outputs": [],
   "source": [
    "import tensorflow as tf\n",
    "from tensorflow.keras import datasets, layers, models\n",
    "import matplotlib.pyplot as plt"
   ]
  },
  {
   "cell_type": "markdown",
   "metadata": {
    "id": "suhXnVRuEY31"
   },
   "source": [
    "### **2. Load CIFAR-10 dataset**"
   ]
  },
  {
   "cell_type": "code",
   "execution_count": 3,
   "metadata": {
    "colab": {
     "base_uri": "https://localhost:8080/"
    },
    "id": "sZcpw-uvCe9x",
    "outputId": "18dee6e5-4652-4c40-e449-928589db7fa3"
   },
   "outputs": [],
   "source": [
    "(train_images, train_labels), (test_images, test_labels) = datasets.cifar10.load_data()"
   ]
  },
  {
   "cell_type": "markdown",
   "metadata": {
    "id": "KJWbKTw3EeDj"
   },
   "source": [
    "### **3. Normalisasikan nilai piksel menjadi antara 0 dan 1**"
   ]
  },
  {
   "cell_type": "code",
   "execution_count": 4,
   "metadata": {
    "id": "hgadd_XTCf-G"
   },
   "outputs": [],
   "source": [
    "train_images, test_images = train_images / 255.0, test_images / 255.0"
   ]
  },
  {
   "cell_type": "markdown",
   "metadata": {
    "id": "KaTS6x3QEkcs"
   },
   "source": [
    "### **4. Buat model CNN**"
   ]
  },
  {
   "cell_type": "code",
   "execution_count": 5,
   "metadata": {
    "id": "iS8A_q7NChqB"
   },
   "outputs": [
    {
     "name": "stdout",
     "output_type": "stream",
     "text": [
      "Model: \"sequential\"\n",
      "_________________________________________________________________\n",
      " Layer (type)                Output Shape              Param #   \n",
      "=================================================================\n",
      " conv2d (Conv2D)             (None, 32, 32, 64)        3136      \n",
      "                                                                 \n",
      " batch_normalization (BatchN  (None, 32, 32, 64)       256       \n",
      " ormalization)                                                   \n",
      "                                                                 \n",
      " conv2d_1 (Conv2D)           (None, 32, 32, 64)        65600     \n",
      "                                                                 \n",
      " batch_normalization_1 (Batc  (None, 32, 32, 64)       256       \n",
      " hNormalization)                                                 \n",
      "                                                                 \n",
      " max_pooling2d (MaxPooling2D  (None, 16, 16, 64)       0         \n",
      " )                                                               \n",
      "                                                                 \n",
      " dropout (Dropout)           (None, 16, 16, 64)        0         \n",
      "                                                                 \n",
      " conv2d_2 (Conv2D)           (None, 16, 16, 128)       131200    \n",
      "                                                                 \n",
      " batch_normalization_2 (Batc  (None, 16, 16, 128)      512       \n",
      " hNormalization)                                                 \n",
      "                                                                 \n",
      " conv2d_3 (Conv2D)           (None, 16, 16, 128)       262272    \n",
      "                                                                 \n",
      " batch_normalization_3 (Batc  (None, 16, 16, 128)      512       \n",
      " hNormalization)                                                 \n",
      "                                                                 \n",
      " max_pooling2d_1 (MaxPooling  (None, 8, 8, 128)        0         \n",
      " 2D)                                                             \n",
      "                                                                 \n",
      " dropout_1 (Dropout)         (None, 8, 8, 128)         0         \n",
      "                                                                 \n",
      " conv2d_4 (Conv2D)           (None, 8, 8, 128)         262272    \n",
      "                                                                 \n",
      " batch_normalization_4 (Batc  (None, 8, 8, 128)        512       \n",
      " hNormalization)                                                 \n",
      "                                                                 \n",
      " conv2d_5 (Conv2D)           (None, 8, 8, 128)         262272    \n",
      "                                                                 \n",
      " batch_normalization_5 (Batc  (None, 8, 8, 128)        512       \n",
      " hNormalization)                                                 \n",
      "                                                                 \n",
      " max_pooling2d_2 (MaxPooling  (None, 4, 4, 128)        0         \n",
      " 2D)                                                             \n",
      "                                                                 \n",
      " dropout_2 (Dropout)         (None, 4, 4, 128)         0         \n",
      "                                                                 \n",
      " flatten (Flatten)           (None, 2048)              0         \n",
      "                                                                 \n",
      " dense (Dense)               (None, 256)               524544    \n",
      "                                                                 \n",
      " batch_normalization_6 (Batc  (None, 256)              1024      \n",
      " hNormalization)                                                 \n",
      "                                                                 \n",
      " dropout_3 (Dropout)         (None, 256)               0         \n",
      "                                                                 \n",
      " dense_1 (Dense)             (None, 10)                2570      \n",
      "                                                                 \n",
      "=================================================================\n",
      "Total params: 1,517,450\n",
      "Trainable params: 1,515,658\n",
      "Non-trainable params: 1,792\n",
      "_________________________________________________________________\n"
     ]
    }
   ],
   "source": [
    "model = models.Sequential()\n",
    "model.add(layers.Conv2D(64,(4,4),input_shape=(32,32,3),activation='relu',padding='same'))\n",
    "model.add(layers.BatchNormalization())\n",
    "model.add(layers.Conv2D(64,(4,4),input_shape=(32,32,3),activation='relu',padding='same'))\n",
    "model.add(layers.BatchNormalization())\n",
    "model.add(layers.MaxPooling2D(pool_size=(2,2)))\n",
    "model.add(layers.Dropout(0.2))\n",
    "model.add(layers.Conv2D(128,(4,4),input_shape=(32,32,3),activation='relu',padding='same'))\n",
    "model.add(layers.BatchNormalization())\n",
    "model.add(layers.Conv2D(128,(4,4),input_shape=(32,32,3),activation='relu',padding='same'))\n",
    "model.add(layers.BatchNormalization())\n",
    "model.add(layers.MaxPooling2D(pool_size=(2,2)))\n",
    "model.add(layers.Dropout(0.25))\n",
    "model.add(layers.Conv2D(128,(4,4),input_shape=(32,32,3),activation='relu',padding='same'))\n",
    "model.add(layers.BatchNormalization())\n",
    "model.add(layers.Conv2D(128,(4,4),input_shape=(32,32,3),activation='relu',padding='same'))\n",
    "model.add(layers.BatchNormalization())\n",
    "model.add(layers.MaxPooling2D(pool_size=(2,2)))\n",
    "model.add(layers.Dropout(0.35))\n",
    "model.add(layers.Flatten())\n",
    "model.add(layers.Dense(256, activation='relu'))\n",
    "model.add(layers.BatchNormalization())\n",
    "model.add(layers.Dropout(0.5))\n",
    "model.add(layers.Dense(10, activation='softmax'))\n",
    "model.summary()\n"
   ]
  },
  {
   "cell_type": "markdown",
   "metadata": {
    "id": "QsRqFgSdEvvI"
   },
   "source": [
    "### **7. Compile modelnya**"
   ]
  },
  {
   "cell_type": "code",
   "execution_count": 6,
   "metadata": {
    "id": "U-8hToCMCjMW"
   },
   "outputs": [],
   "source": [
    "model.compile(optimizer='adam',\n",
    "              loss='sparse_categorical_crossentropy',\n",
    "              metrics=['accuracy'])"
   ]
  },
  {
   "cell_type": "markdown",
   "metadata": {
    "id": "41vq-OVbE0vZ"
   },
   "source": [
    "### **8. Latih model dengan lebih banyak epoch**"
   ]
  },
  {
   "cell_type": "code",
   "execution_count": 7,
   "metadata": {
    "colab": {
     "base_uri": "https://localhost:8080/"
    },
    "id": "3r0zF8ggCkGv",
    "outputId": "1a4a1b67-584a-4080-fb22-977fde145ef2"
   },
   "outputs": [
    {
     "name": "stdout",
     "output_type": "stream",
     "text": [
      "Epoch 1/20\n",
      "1563/1563 [==============================] - 52s 29ms/step - loss: 1.5785 - accuracy: 0.4627 - val_loss: 1.3308 - val_accuracy: 0.5300\n",
      "Epoch 2/20\n",
      "1563/1563 [==============================] - 45s 29ms/step - loss: 0.9503 - accuracy: 0.6659 - val_loss: 0.9344 - val_accuracy: 0.6735\n",
      "Epoch 3/20\n",
      "1563/1563 [==============================] - 45s 29ms/step - loss: 0.7622 - accuracy: 0.7379 - val_loss: 0.7157 - val_accuracy: 0.7555\n",
      "Epoch 4/20\n",
      "1563/1563 [==============================] - 45s 29ms/step - loss: 0.6567 - accuracy: 0.7749 - val_loss: 0.6672 - val_accuracy: 0.7727\n",
      "Epoch 5/20\n",
      "1563/1563 [==============================] - 45s 29ms/step - loss: 0.5632 - accuracy: 0.8088 - val_loss: 0.5599 - val_accuracy: 0.8097\n",
      "Epoch 6/20\n",
      "1563/1563 [==============================] - 46s 29ms/step - loss: 0.4900 - accuracy: 0.8342 - val_loss: 0.5316 - val_accuracy: 0.8207\n",
      "Epoch 7/20\n",
      "1563/1563 [==============================] - 46s 29ms/step - loss: 0.4292 - accuracy: 0.8546 - val_loss: 0.5279 - val_accuracy: 0.8292\n",
      "Epoch 8/20\n",
      "1563/1563 [==============================] - 46s 30ms/step - loss: 0.3800 - accuracy: 0.8705 - val_loss: 0.4577 - val_accuracy: 0.8498\n",
      "Epoch 9/20\n",
      "1563/1563 [==============================] - 47s 30ms/step - loss: 0.3382 - accuracy: 0.8850 - val_loss: 0.5332 - val_accuracy: 0.8278\n",
      "Epoch 10/20\n",
      "1563/1563 [==============================] - 47s 30ms/step - loss: 0.3052 - accuracy: 0.8959 - val_loss: 0.4848 - val_accuracy: 0.8475\n",
      "Epoch 11/20\n",
      "1563/1563 [==============================] - 47s 30ms/step - loss: 0.2724 - accuracy: 0.9068 - val_loss: 0.4776 - val_accuracy: 0.8497\n",
      "Epoch 12/20\n",
      "1563/1563 [==============================] - 47s 30ms/step - loss: 0.2450 - accuracy: 0.9150 - val_loss: 0.5164 - val_accuracy: 0.8484\n",
      "Epoch 13/20\n",
      "1563/1563 [==============================] - 47s 30ms/step - loss: 0.2289 - accuracy: 0.9221 - val_loss: 0.5748 - val_accuracy: 0.8269\n",
      "Epoch 14/20\n",
      "1563/1563 [==============================] - 47s 30ms/step - loss: 0.2094 - accuracy: 0.9282 - val_loss: 0.5447 - val_accuracy: 0.8428\n",
      "Epoch 15/20\n",
      "1563/1563 [==============================] - 48s 31ms/step - loss: 0.1939 - accuracy: 0.9335 - val_loss: 0.4858 - val_accuracy: 0.8580\n",
      "Epoch 16/20\n",
      "1563/1563 [==============================] - 48s 31ms/step - loss: 0.1787 - accuracy: 0.9370 - val_loss: 0.4900 - val_accuracy: 0.8631\n",
      "Epoch 17/20\n",
      "1563/1563 [==============================] - 48s 31ms/step - loss: 0.1681 - accuracy: 0.9422 - val_loss: 0.5260 - val_accuracy: 0.8552\n",
      "Epoch 18/20\n",
      "1563/1563 [==============================] - 48s 31ms/step - loss: 0.1594 - accuracy: 0.9449 - val_loss: 0.5953 - val_accuracy: 0.8425\n",
      "Epoch 19/20\n",
      "1563/1563 [==============================] - 48s 31ms/step - loss: 0.1435 - accuracy: 0.9511 - val_loss: 0.5208 - val_accuracy: 0.8636\n",
      "Epoch 20/20\n",
      "1563/1563 [==============================] - 49s 31ms/step - loss: 0.1406 - accuracy: 0.9512 - val_loss: 0.5515 - val_accuracy: 0.8552\n"
     ]
    }
   ],
   "source": [
    "history = model.fit(train_images, train_labels, epochs=20, validation_data=(test_images, test_labels))"
   ]
  },
  {
   "cell_type": "markdown",
   "metadata": {
    "id": "a-HCafCLE6SW"
   },
   "source": [
    "### **9. Evaluasi hasil model**"
   ]
  },
  {
   "cell_type": "code",
   "execution_count": 8,
   "metadata": {
    "colab": {
     "base_uri": "https://localhost:8080/"
    },
    "id": "wjAVLyZ9Ck8l",
    "outputId": "25041db2-1c40-4265-b5ec-cd4dfad92d27"
   },
   "outputs": [
    {
     "name": "stdout",
     "output_type": "stream",
     "text": [
      "313/313 - 3s - loss: 0.5515 - accuracy: 0.8552 - 3s/epoch - 9ms/step\n",
      "Test accuracy: 0.8551999926567078\n"
     ]
    }
   ],
   "source": [
    "test_loss, test_acc = model.evaluate(test_images, test_labels, verbose=2)\n",
    "print(f\"Test accuracy: {test_acc}\")"
   ]
  },
  {
   "cell_type": "markdown",
   "metadata": {
    "id": "d7hpsHZ3FBSe"
   },
   "source": [
    "### **10. Plot training history**"
   ]
  },
  {
   "cell_type": "code",
   "execution_count": 9,
   "metadata": {
    "colab": {
     "base_uri": "https://localhost:8080/",
     "height": 455
    },
    "id": "ckzsopl6CROw",
    "outputId": "149826b6-4ea2-4f4d-c665-b6db19e9ffaa"
   },
   "outputs": [
    {
     "data": {
      "image/png": "[encoded data removed]",
      "text/plain": [
       "<Figure size 640x480 with 1 Axes>"
      ]
     },
     "metadata": {},
     "output_type": "display_data"
    }
   ],
   "source": [
    "plt.plot(history.history['accuracy'], label='accuracy')\n",
    "plt.plot(history.history['val_accuracy'], label='val_accuracy')\n",
    "plt.xlabel('Epoch')\n",
    "plt.ylabel('Accuracy')\n",
    "plt.ylim([0, 1])\n",
    "plt.legend(loc='lower right')\n",
    "plt.show()\n"
   ]
  },
  {
   "cell_type": "markdown",
   "metadata": {
    "id": "kTfrsloCCtex"
   },
   "source": [
    "\n",
    "## **Model CNN untuk klasifikasi dataset MNIST.**"
   ]
  },
  {
   "cell_type": "markdown",
   "metadata": {
    "id": "U0JyqpDIFJsH"
   },
   "source": [
    "### **1. Import Library**"
   ]
  },
  {
   "cell_type": "code",
   "execution_count": 10,
   "metadata": {
    "id": "ECVYGrOZC3Hk"
   },
   "outputs": [],
   "source": [
    "import tensorflow as tf\n",
    "from tensorflow.keras import datasets, layers, models\n",
    "import matplotlib.pyplot as plt"
   ]
  },
  {
   "cell_type": "markdown",
   "metadata": {
    "id": "GUgnhiq4FJsH"
   },
   "source": [
    "### **2. Load Mnist dataset**"
   ]
  },
  {
   "cell_type": "code",
   "execution_count": 11,
   "metadata": {
    "id": "SCVJ3BkJC39C"
   },
   "outputs": [],
   "source": [
    "(train_images, train_labels), (test_images, test_labels) = datasets.mnist.load_data()"
   ]
  },
  {
   "cell_type": "markdown",
   "metadata": {
    "id": "H6PfwxIVFJsH"
   },
   "source": [
    "### **3. Normalisasikan nilai piksel menjadi antara 0 dan 1**"
   ]
  },
  {
   "cell_type": "code",
   "execution_count": 12,
   "metadata": {
    "id": "OAgVIx8_C4r0"
   },
   "outputs": [],
   "source": [
    "train_images, test_images = train_images / 255.0, test_images / 255.0"
   ]
  },
  {
   "cell_type": "markdown",
   "metadata": {
    "id": "TUrPEjoUFJsI"
   },
   "source": [
    "### **4. Buat model CNN**"
   ]
  },
  {
   "cell_type": "code",
   "execution_count": 13,
   "metadata": {
    "id": "bmOE3R9nC5mH"
   },
   "outputs": [],
   "source": [
    "model = models.Sequential()\n",
    "model.add(layers.Conv2D(32, (3, 3), activation='relu', input_shape=(28, 28, 1)))\n",
    "model.add(layers.MaxPooling2D((2, 2)))\n",
    "model.add(layers.Conv2D(64, (3, 3), activation='relu'))\n",
    "model.add(layers.MaxPooling2D((2, 2)))\n",
    "model.add(layers.Conv2D(64, (3, 3), activation='relu'))\n",
    "model.add(layers.Flatten())\n",
    "model.add(layers.Dense(64, activation='relu'))\n",
    "model.add(layers.Dense(10, activation='softmax'))"
   ]
  },
  {
   "cell_type": "markdown",
   "metadata": {
    "id": "vewnFulLFJsJ"
   },
   "source": [
    "### **5. Compile modelnya**"
   ]
  },
  {
   "cell_type": "code",
   "execution_count": 14,
   "metadata": {
    "id": "3nyxlQ-sC6gL"
   },
   "outputs": [],
   "source": [
    "model.compile(optimizer='adam',\n",
    "              loss='sparse_categorical_crossentropy',\n",
    "              metrics=['accuracy'])"
   ]
  },
  {
   "cell_type": "markdown",
   "metadata": {
    "id": "zt7YFgq5FJsK"
   },
   "source": [
    "### **6. Latih model dengan lebih banyak epoch**"
   ]
  },
  {
   "cell_type": "code",
   "execution_count": 15,
   "metadata": {
    "colab": {
     "base_uri": "https://localhost:8080/"
    },
    "id": "5TPyFzr0C7bT",
    "outputId": "12b9cf2c-b246-4400-92c7-d73927ad827d"
   },
   "outputs": [
    {
     "name": "stdout",
     "output_type": "stream",
     "text": [
      "Epoch 1/10\n",
      "1875/1875 [==============================] - 10s 5ms/step - loss: 0.1476 - accuracy: 0.9540 - val_loss: 0.0496 - val_accuracy: 0.9834\n",
      "Epoch 2/10\n",
      "1875/1875 [==============================] - 8s 4ms/step - loss: 0.0484 - accuracy: 0.9854 - val_loss: 0.0329 - val_accuracy: 0.9887\n",
      "Epoch 3/10\n",
      "1875/1875 [==============================] - 9s 5ms/step - loss: 0.0339 - accuracy: 0.9891 - val_loss: 0.0338 - val_accuracy: 0.9896\n",
      "Epoch 4/10\n",
      "1875/1875 [==============================] - 8s 4ms/step - loss: 0.0254 - accuracy: 0.9920 - val_loss: 0.0322 - val_accuracy: 0.9905\n",
      "Epoch 5/10\n",
      "1875/1875 [==============================] - 8s 4ms/step - loss: 0.0209 - accuracy: 0.9936 - val_loss: 0.0291 - val_accuracy: 0.9915\n",
      "Epoch 6/10\n",
      "1875/1875 [==============================] - 7s 4ms/step - loss: 0.0168 - accuracy: 0.9946 - val_loss: 0.0279 - val_accuracy: 0.9919\n",
      "Epoch 7/10\n",
      "1875/1875 [==============================] - 8s 4ms/step - loss: 0.0136 - accuracy: 0.9958 - val_loss: 0.0271 - val_accuracy: 0.9925\n",
      "Epoch 8/10\n",
      "1875/1875 [==============================] - 8s 4ms/step - loss: 0.0133 - accuracy: 0.9955 - val_loss: 0.0419 - val_accuracy: 0.9894\n",
      "Epoch 9/10\n",
      "1875/1875 [==============================] - 8s 4ms/step - loss: 0.0092 - accuracy: 0.9971 - val_loss: 0.0339 - val_accuracy: 0.9923\n",
      "Epoch 10/10\n",
      "1875/1875 [==============================] - 8s 4ms/step - loss: 0.0091 - accuracy: 0.9968 - val_loss: 0.0408 - val_accuracy: 0.9913\n"
     ]
    }
   ],
   "source": [
    "history = model.fit(train_images, train_labels, epochs=10, validation_data=(test_images, test_labels))"
   ]
  },
  {
   "cell_type": "markdown",
   "metadata": {
    "id": "OQ0zBOioFJsK"
   },
   "source": [
    "### **7. Evaluasi hasil model**"
   ]
  },
  {
   "cell_type": "code",
   "execution_count": 16,
   "metadata": {
    "colab": {
     "base_uri": "https://localhost:8080/"
    },
    "id": "SRtaABJ3C8ZR",
    "outputId": "9f25a8a9-0a13-40a6-a310-93555c5fd2ff"
   },
   "outputs": [
    {
     "name": "stdout",
     "output_type": "stream",
     "text": [
      "313/313 - 1s - loss: 0.0408 - accuracy: 0.9913 - 700ms/epoch - 2ms/step\n",
      "Test accuracy: 0.9912999868392944\n"
     ]
    }
   ],
   "source": [
    "test_loss, test_acc = model.evaluate(test_images,  test_labels, verbose=2)\n",
    "print(f\"Test accuracy: {test_acc}\")"
   ]
  },
  {
   "cell_type": "markdown",
   "metadata": {
    "id": "0BrP3d_VFJsK"
   },
   "source": [
    "### **8. Plot training history**"
   ]
  },
  {
   "cell_type": "code",
   "execution_count": 17,
   "metadata": {
    "colab": {
     "base_uri": "https://localhost:8080/",
     "height": 455
    },
    "id": "IUtd1dKsC2Ht",
    "outputId": "14be69f5-de4d-4380-f2f5-23ab8d0ff977"
   },
   "outputs": [
    {
     "data": {
      "image/png": "[encoded data removed]",
      "text/plain": [
       "<Figure size 640x480 with 1 Axes>"
      ]
     },
     "metadata": {},
     "output_type": "display_data"
    }
   ],
   "source": [
    "plt.plot(history.history['accuracy'], label='accuracy')\n",
    "plt.plot(history.history['val_accuracy'], label='val_accuracy')\n",
    "plt.xlabel('Epoch')\n",
    "plt.ylabel('Accuracy')\n",
    "plt.ylim([0, 1])\n",
    "plt.legend(loc='lower right')\n",
    "plt.show()"
   ]
  }
 ],
 "metadata": {
  "accelerator": "GPU",
  "colab": {
   "gpuType": "T4",
   "include_colab_link": true,
   "provenance": []
  },
  "kernelspec": {
   "display_name": "base",
   "language": "python",
   "name": "python3"
  },
  "language_info": {
   "codemirror_mode": {
    "name": "ipython",
    "version": 3
   },
   "file_extension": ".py",
   "mimetype": "text/x-python",
   "name": "python",
   "nbconvert_exporter": "python",
   "pygments_lexer": "ipython3",
   "version": "3.9.18"
  }
 },
 "nbformat": 4,
 "nbformat_minor": 1
}
