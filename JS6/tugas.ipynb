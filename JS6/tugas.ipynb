{
 "cells": [
  {
   "cell_type": "markdown",
   "metadata": {},
   "source": [
    "## **Tugas 1**"
   ]
  },
  {
   "cell_type": "markdown",
   "metadata": {},
   "source": [
    "Terdapat dataset mushroom. Berdasarkan dataset yang tersebut, bandingkan peforma antara algoritma Decision Tree dan RandomForest. Gunakan tunning hyperparameter untuk mendapatkan parameter dan akurasi yang terbaik."
   ]
  },
  {
   "cell_type": "markdown",
   "metadata": {},
   "source": [
    "### Import Library"
   ]
  },
  {
   "cell_type": "code",
   "execution_count": 17,
   "metadata": {},
   "outputs": [],
   "source": [
    "import pandas as pd\n",
    "from sklearn.model_selection import train_test_split, GridSearchCV\n",
    "from sklearn.tree import DecisionTreeClassifier\n",
    "from sklearn.ensemble import RandomForestClassifier\n",
    "from sklearn.metrics import accuracy_score"
   ]
  },
  {
   "cell_type": "markdown",
   "metadata": {},
   "source": [
    "### Persiapan Data"
   ]
  },
  {
   "cell_type": "code",
   "execution_count": 18,
   "metadata": {},
   "outputs": [
    {
     "data": {
      "text/html": [
       "<div>\n",
       "<style scoped>\n",
       "    .dataframe tbody tr th:only-of-type {\n",
       "        vertical-align: middle;\n",
       "    }\n",
       "\n",
       "    .dataframe tbody tr th {\n",
       "        vertical-align: top;\n",
       "    }\n",
       "\n",
       "    .dataframe thead th {\n",
       "        text-align: right;\n",
       "    }\n",
       "</style>\n",
       "<table border=\"1\" class=\"dataframe\">\n",
       "  <thead>\n",
       "    <tr style=\"text-align: right;\">\n",
       "      <th></th>\n",
       "      <th>class</th>\n",
       "      <th>cap-shape</th>\n",
       "      <th>cap-surface</th>\n",
       "      <th>cap-color</th>\n",
       "      <th>bruises</th>\n",
       "      <th>odor</th>\n",
       "      <th>gill-attachment</th>\n",
       "      <th>gill-spacing</th>\n",
       "      <th>gill-size</th>\n",
       "      <th>gill-color</th>\n",
       "      <th>...</th>\n",
       "      <th>stalk-surface-below-ring</th>\n",
       "      <th>stalk-color-above-ring</th>\n",
       "      <th>stalk-color-below-ring</th>\n",
       "      <th>veil-type</th>\n",
       "      <th>veil-color</th>\n",
       "      <th>ring-number</th>\n",
       "      <th>ring-type</th>\n",
       "      <th>spore-print-color</th>\n",
       "      <th>population</th>\n",
       "      <th>habitat</th>\n",
       "    </tr>\n",
       "  </thead>\n",
       "  <tbody>\n",
       "    <tr>\n",
       "      <th>0</th>\n",
       "      <td>p</td>\n",
       "      <td>x</td>\n",
       "      <td>s</td>\n",
       "      <td>n</td>\n",
       "      <td>t</td>\n",
       "      <td>p</td>\n",
       "      <td>f</td>\n",
       "      <td>c</td>\n",
       "      <td>n</td>\n",
       "      <td>k</td>\n",
       "      <td>...</td>\n",
       "      <td>s</td>\n",
       "      <td>w</td>\n",
       "      <td>w</td>\n",
       "      <td>p</td>\n",
       "      <td>w</td>\n",
       "      <td>o</td>\n",
       "      <td>p</td>\n",
       "      <td>k</td>\n",
       "      <td>s</td>\n",
       "      <td>u</td>\n",
       "    </tr>\n",
       "    <tr>\n",
       "      <th>1</th>\n",
       "      <td>e</td>\n",
       "      <td>x</td>\n",
       "      <td>s</td>\n",
       "      <td>y</td>\n",
       "      <td>t</td>\n",
       "      <td>a</td>\n",
       "      <td>f</td>\n",
       "      <td>c</td>\n",
       "      <td>b</td>\n",
       "      <td>k</td>\n",
       "      <td>...</td>\n",
       "      <td>s</td>\n",
       "      <td>w</td>\n",
       "      <td>w</td>\n",
       "      <td>p</td>\n",
       "      <td>w</td>\n",
       "      <td>o</td>\n",
       "      <td>p</td>\n",
       "      <td>n</td>\n",
       "      <td>n</td>\n",
       "      <td>g</td>\n",
       "    </tr>\n",
       "    <tr>\n",
       "      <th>2</th>\n",
       "      <td>e</td>\n",
       "      <td>b</td>\n",
       "      <td>s</td>\n",
       "      <td>w</td>\n",
       "      <td>t</td>\n",
       "      <td>l</td>\n",
       "      <td>f</td>\n",
       "      <td>c</td>\n",
       "      <td>b</td>\n",
       "      <td>n</td>\n",
       "      <td>...</td>\n",
       "      <td>s</td>\n",
       "      <td>w</td>\n",
       "      <td>w</td>\n",
       "      <td>p</td>\n",
       "      <td>w</td>\n",
       "      <td>o</td>\n",
       "      <td>p</td>\n",
       "      <td>n</td>\n",
       "      <td>n</td>\n",
       "      <td>m</td>\n",
       "    </tr>\n",
       "    <tr>\n",
       "      <th>3</th>\n",
       "      <td>p</td>\n",
       "      <td>x</td>\n",
       "      <td>y</td>\n",
       "      <td>w</td>\n",
       "      <td>t</td>\n",
       "      <td>p</td>\n",
       "      <td>f</td>\n",
       "      <td>c</td>\n",
       "      <td>n</td>\n",
       "      <td>n</td>\n",
       "      <td>...</td>\n",
       "      <td>s</td>\n",
       "      <td>w</td>\n",
       "      <td>w</td>\n",
       "      <td>p</td>\n",
       "      <td>w</td>\n",
       "      <td>o</td>\n",
       "      <td>p</td>\n",
       "      <td>k</td>\n",
       "      <td>s</td>\n",
       "      <td>u</td>\n",
       "    </tr>\n",
       "    <tr>\n",
       "      <th>4</th>\n",
       "      <td>e</td>\n",
       "      <td>x</td>\n",
       "      <td>s</td>\n",
       "      <td>g</td>\n",
       "      <td>f</td>\n",
       "      <td>n</td>\n",
       "      <td>f</td>\n",
       "      <td>w</td>\n",
       "      <td>b</td>\n",
       "      <td>k</td>\n",
       "      <td>...</td>\n",
       "      <td>s</td>\n",
       "      <td>w</td>\n",
       "      <td>w</td>\n",
       "      <td>p</td>\n",
       "      <td>w</td>\n",
       "      <td>o</td>\n",
       "      <td>e</td>\n",
       "      <td>n</td>\n",
       "      <td>a</td>\n",
       "      <td>g</td>\n",
       "    </tr>\n",
       "  </tbody>\n",
       "</table>\n",
       "<p>5 rows × 23 columns</p>\n",
       "</div>"
      ],
      "text/plain": [
       "  class cap-shape cap-surface cap-color bruises odor gill-attachment  \\\n",
       "0     p         x           s         n       t    p               f   \n",
       "1     e         x           s         y       t    a               f   \n",
       "2     e         b           s         w       t    l               f   \n",
       "3     p         x           y         w       t    p               f   \n",
       "4     e         x           s         g       f    n               f   \n",
       "\n",
       "  gill-spacing gill-size gill-color  ... stalk-surface-below-ring  \\\n",
       "0            c         n          k  ...                        s   \n",
       "1            c         b          k  ...                        s   \n",
       "2            c         b          n  ...                        s   \n",
       "3            c         n          n  ...                        s   \n",
       "4            w         b          k  ...                        s   \n",
       "\n",
       "  stalk-color-above-ring stalk-color-below-ring veil-type veil-color  \\\n",
       "0                      w                      w         p          w   \n",
       "1                      w                      w         p          w   \n",
       "2                      w                      w         p          w   \n",
       "3                      w                      w         p          w   \n",
       "4                      w                      w         p          w   \n",
       "\n",
       "  ring-number ring-type spore-print-color population habitat  \n",
       "0           o         p                 k          s       u  \n",
       "1           o         p                 n          n       g  \n",
       "2           o         p                 n          n       m  \n",
       "3           o         p                 k          s       u  \n",
       "4           o         e                 n          a       g  \n",
       "\n",
       "[5 rows x 23 columns]"
      ]
     },
     "execution_count": 18,
     "metadata": {},
     "output_type": "execute_result"
    }
   ],
   "source": [
    "data = pd.read_csv(\"data/mushrooms.csv\")\n",
    "data.head()"
   ]
  },
  {
   "cell_type": "code",
   "execution_count": 19,
   "metadata": {},
   "outputs": [
    {
     "data": {
      "text/plain": [
       "Index(['class', 'cap-shape', 'cap-surface', 'cap-color', 'bruises', 'odor',\n",
       "       'gill-attachment', 'gill-spacing', 'gill-size', 'gill-color',\n",
       "       'stalk-shape', 'stalk-root', 'stalk-surface-above-ring',\n",
       "       'stalk-surface-below-ring', 'stalk-color-above-ring',\n",
       "       'stalk-color-below-ring', 'veil-type', 'veil-color', 'ring-number',\n",
       "       'ring-type', 'spore-print-color', 'population', 'habitat'],\n",
       "      dtype='object')"
      ]
     },
     "execution_count": 19,
     "metadata": {},
     "output_type": "execute_result"
    }
   ],
   "source": [
    "# Cek nama kolom\n",
    "data.columns"
   ]
  },
  {
   "cell_type": "code",
   "execution_count": 20,
   "metadata": {},
   "outputs": [
    {
     "data": {
      "text/plain": [
       "class                       0\n",
       "cap-shape                   0\n",
       "cap-surface                 0\n",
       "cap-color                   0\n",
       "bruises                     0\n",
       "odor                        0\n",
       "gill-attachment             0\n",
       "gill-spacing                0\n",
       "gill-size                   0\n",
       "gill-color                  0\n",
       "stalk-shape                 0\n",
       "stalk-root                  0\n",
       "stalk-surface-above-ring    0\n",
       "stalk-surface-below-ring    0\n",
       "stalk-color-above-ring      0\n",
       "stalk-color-below-ring      0\n",
       "veil-type                   0\n",
       "veil-color                  0\n",
       "ring-number                 0\n",
       "ring-type                   0\n",
       "spore-print-color           0\n",
       "population                  0\n",
       "habitat                     0\n",
       "dtype: int64"
      ]
     },
     "execution_count": 20,
     "metadata": {},
     "output_type": "execute_result"
    }
   ],
   "source": [
    "# Cek kolom null\n",
    "data.isnull().sum()"
   ]
  },
  {
   "cell_type": "code",
   "execution_count": 21,
   "metadata": {},
   "outputs": [],
   "source": [
    "# Pisahkan fitur (features) dan target (target)\n",
    "X = data.drop('class', axis=1)\n",
    "y = data['class']"
   ]
  },
  {
   "cell_type": "code",
   "execution_count": 22,
   "metadata": {},
   "outputs": [],
   "source": [
    "# Ubah data kategorikal menjadi one-hot encoding\n",
    "X = pd.get_dummies(X)"
   ]
  },
  {
   "cell_type": "markdown",
   "metadata": {},
   "source": [
    "### Split Data"
   ]
  },
  {
   "cell_type": "code",
   "execution_count": 23,
   "metadata": {},
   "outputs": [],
   "source": [
    "# Pisahkan dataset menjadi data latih dan data uji\n",
    "X_train, X_test, y_train, y_test = train_test_split(X, y, test_size=0.3, random_state=42)"
   ]
  },
  {
   "cell_type": "markdown",
   "metadata": {},
   "source": [
    "### Make model"
   ]
  },
  {
   "cell_type": "code",
   "execution_count": 24,
   "metadata": {},
   "outputs": [],
   "source": [
    "# Decision Tree\n",
    "dt_classifier = DecisionTreeClassifier(criterion='entropy', random_state=42)\n",
    "\n",
    "# RandomForest\n",
    "rf_classifier = RandomForestClassifier(random_state=42)"
   ]
  },
  {
   "cell_type": "markdown",
   "metadata": {},
   "source": [
    "### Hyperparameter"
   ]
  },
  {
   "cell_type": "code",
   "execution_count": 25,
   "metadata": {},
   "outputs": [],
   "source": [
    "# Hyperparameter tuning menggunakan GridSearchCV\n",
    "param_grid_dt = {\n",
    "    'max_depth': [None, 10, 20, 30],\n",
    "    'min_samples_split': [2, 5, 10],\n",
    "    'min_samples_leaf': [1, 2, 4],\n",
    "    'ccp_alpha': [0.001, 0.002, 0.003, 0.004]\n",
    "}\n",
    "\n",
    "param_grid_rf = {\n",
    "    'n_estimators': [50, 100, 200],\n",
    "    'max_depth': [None, 10, 20, 30],\n",
    "    'min_samples_split': [2, 5, 10],\n",
    "    'min_samples_leaf': [1, 2, 4],\n",
    "}"
   ]
  },
  {
   "cell_type": "markdown",
   "metadata": {},
   "source": [
    "### GridSearchCV"
   ]
  },
  {
   "cell_type": "code",
   "execution_count": 26,
   "metadata": {},
   "outputs": [
    {
     "data": {
      "text/html": [
       "<style>#sk-container-id-3 {color: black;}#sk-container-id-3 pre{padding: 0;}#sk-container-id-3 div.sk-toggleable {background-color: white;}#sk-container-id-3 label.sk-toggleable__label {cursor: pointer;display: block;width: 100%;margin-bottom: 0;padding: 0.3em;box-sizing: border-box;text-align: center;}#sk-container-id-3 label.sk-toggleable__label-arrow:before {content: \"▸\";float: left;margin-right: 0.25em;color: #696969;}#sk-container-id-3 label.sk-toggleable__label-arrow:hover:before {color: black;}#sk-container-id-3 div.sk-estimator:hover label.sk-toggleable__label-arrow:before {color: black;}#sk-container-id-3 div.sk-toggleable__content {max-height: 0;max-width: 0;overflow: hidden;text-align: left;background-color: #f0f8ff;}#sk-container-id-3 div.sk-toggleable__content pre {margin: 0.2em;color: black;border-radius: 0.25em;background-color: #f0f8ff;}#sk-container-id-3 input.sk-toggleable__control:checked~div.sk-toggleable__content {max-height: 200px;max-width: 100%;overflow: auto;}#sk-container-id-3 input.sk-toggleable__control:checked~label.sk-toggleable__label-arrow:before {content: \"▾\";}#sk-container-id-3 div.sk-estimator input.sk-toggleable__control:checked~label.sk-toggleable__label {background-color: #d4ebff;}#sk-container-id-3 div.sk-label input.sk-toggleable__control:checked~label.sk-toggleable__label {background-color: #d4ebff;}#sk-container-id-3 input.sk-hidden--visually {border: 0;clip: rect(1px 1px 1px 1px);clip: rect(1px, 1px, 1px, 1px);height: 1px;margin: -1px;overflow: hidden;padding: 0;position: absolute;width: 1px;}#sk-container-id-3 div.sk-estimator {font-family: monospace;background-color: #f0f8ff;border: 1px dotted black;border-radius: 0.25em;box-sizing: border-box;margin-bottom: 0.5em;}#sk-container-id-3 div.sk-estimator:hover {background-color: #d4ebff;}#sk-container-id-3 div.sk-parallel-item::after {content: \"\";width: 100%;border-bottom: 1px solid gray;flex-grow: 1;}#sk-container-id-3 div.sk-label:hover label.sk-toggleable__label {background-color: #d4ebff;}#sk-container-id-3 div.sk-serial::before {content: \"\";position: absolute;border-left: 1px solid gray;box-sizing: border-box;top: 0;bottom: 0;left: 50%;z-index: 0;}#sk-container-id-3 div.sk-serial {display: flex;flex-direction: column;align-items: center;background-color: white;padding-right: 0.2em;padding-left: 0.2em;position: relative;}#sk-container-id-3 div.sk-item {position: relative;z-index: 1;}#sk-container-id-3 div.sk-parallel {display: flex;align-items: stretch;justify-content: center;background-color: white;position: relative;}#sk-container-id-3 div.sk-item::before, #sk-container-id-3 div.sk-parallel-item::before {content: \"\";position: absolute;border-left: 1px solid gray;box-sizing: border-box;top: 0;bottom: 0;left: 50%;z-index: -1;}#sk-container-id-3 div.sk-parallel-item {display: flex;flex-direction: column;z-index: 1;position: relative;background-color: white;}#sk-container-id-3 div.sk-parallel-item:first-child::after {align-self: flex-end;width: 50%;}#sk-container-id-3 div.sk-parallel-item:last-child::after {align-self: flex-start;width: 50%;}#sk-container-id-3 div.sk-parallel-item:only-child::after {width: 0;}#sk-container-id-3 div.sk-dashed-wrapped {border: 1px dashed gray;margin: 0 0.4em 0.5em 0.4em;box-sizing: border-box;padding-bottom: 0.4em;background-color: white;}#sk-container-id-3 div.sk-label label {font-family: monospace;font-weight: bold;display: inline-block;line-height: 1.2em;}#sk-container-id-3 div.sk-label-container {text-align: center;}#sk-container-id-3 div.sk-container {/* jupyter's `normalize.less` sets `[hidden] { display: none; }` but bootstrap.min.css set `[hidden] { display: none !important; }` so we also need the `!important` here to be able to override the default hidden behavior on the sphinx rendered scikit-learn.org. See: https://github.com/scikit-learn/scikit-learn/issues/21755 */display: inline-block !important;position: relative;}#sk-container-id-3 div.sk-text-repr-fallback {display: none;}</style><div id=\"sk-container-id-3\" class=\"sk-top-container\"><div class=\"sk-text-repr-fallback\"><pre>GridSearchCV(cv=5,\n",
       "             estimator=DecisionTreeClassifier(criterion=&#x27;entropy&#x27;,\n",
       "                                              random_state=42),\n",
       "             param_grid={&#x27;ccp_alpha&#x27;: [0.001, 0.002, 0.003, 0.004],\n",
       "                         &#x27;max_depth&#x27;: [None, 10, 20, 30],\n",
       "                         &#x27;min_samples_leaf&#x27;: [1, 2, 4],\n",
       "                         &#x27;min_samples_split&#x27;: [2, 5, 10]},\n",
       "             scoring=&#x27;accuracy&#x27;)</pre><b>In a Jupyter environment, please rerun this cell to show the HTML representation or trust the notebook. <br />On GitHub, the HTML representation is unable to render, please try loading this page with nbviewer.org.</b></div><div class=\"sk-container\" hidden><div class=\"sk-item sk-dashed-wrapped\"><div class=\"sk-label-container\"><div class=\"sk-label sk-toggleable\"><input class=\"sk-toggleable__control sk-hidden--visually\" id=\"sk-estimator-id-9\" type=\"checkbox\" ><label for=\"sk-estimator-id-9\" class=\"sk-toggleable__label sk-toggleable__label-arrow\">GridSearchCV</label><div class=\"sk-toggleable__content\"><pre>GridSearchCV(cv=5,\n",
       "             estimator=DecisionTreeClassifier(criterion=&#x27;entropy&#x27;,\n",
       "                                              random_state=42),\n",
       "             param_grid={&#x27;ccp_alpha&#x27;: [0.001, 0.002, 0.003, 0.004],\n",
       "                         &#x27;max_depth&#x27;: [None, 10, 20, 30],\n",
       "                         &#x27;min_samples_leaf&#x27;: [1, 2, 4],\n",
       "                         &#x27;min_samples_split&#x27;: [2, 5, 10]},\n",
       "             scoring=&#x27;accuracy&#x27;)</pre></div></div></div><div class=\"sk-parallel\"><div class=\"sk-parallel-item\"><div class=\"sk-item\"><div class=\"sk-label-container\"><div class=\"sk-label sk-toggleable\"><input class=\"sk-toggleable__control sk-hidden--visually\" id=\"sk-estimator-id-10\" type=\"checkbox\" ><label for=\"sk-estimator-id-10\" class=\"sk-toggleable__label sk-toggleable__label-arrow\">estimator: DecisionTreeClassifier</label><div class=\"sk-toggleable__content\"><pre>DecisionTreeClassifier(criterion=&#x27;entropy&#x27;, random_state=42)</pre></div></div></div><div class=\"sk-serial\"><div class=\"sk-item\"><div class=\"sk-estimator sk-toggleable\"><input class=\"sk-toggleable__control sk-hidden--visually\" id=\"sk-estimator-id-11\" type=\"checkbox\" ><label for=\"sk-estimator-id-11\" class=\"sk-toggleable__label sk-toggleable__label-arrow\">DecisionTreeClassifier</label><div class=\"sk-toggleable__content\"><pre>DecisionTreeClassifier(criterion=&#x27;entropy&#x27;, random_state=42)</pre></div></div></div></div></div></div></div></div></div></div>"
      ],
      "text/plain": [
       "GridSearchCV(cv=5,\n",
       "             estimator=DecisionTreeClassifier(criterion='entropy',\n",
       "                                              random_state=42),\n",
       "             param_grid={'ccp_alpha': [0.001, 0.002, 0.003, 0.004],\n",
       "                         'max_depth': [None, 10, 20, 30],\n",
       "                         'min_samples_leaf': [1, 2, 4],\n",
       "                         'min_samples_split': [2, 5, 10]},\n",
       "             scoring='accuracy')"
      ]
     },
     "execution_count": 26,
     "metadata": {},
     "output_type": "execute_result"
    }
   ],
   "source": [
    "# Decision Tree GridSearchCV\n",
    "dt_grid_search = GridSearchCV(dt_classifier, param_grid_dt, cv=5, scoring='accuracy')\n",
    "dt_grid_search.fit(X_train, y_train)\n"
   ]
  },
  {
   "cell_type": "code",
   "execution_count": 27,
   "metadata": {},
   "outputs": [
    {
     "data": {
      "text/html": [
       "<style>#sk-container-id-4 {color: black;}#sk-container-id-4 pre{padding: 0;}#sk-container-id-4 div.sk-toggleable {background-color: white;}#sk-container-id-4 label.sk-toggleable__label {cursor: pointer;display: block;width: 100%;margin-bottom: 0;padding: 0.3em;box-sizing: border-box;text-align: center;}#sk-container-id-4 label.sk-toggleable__label-arrow:before {content: \"▸\";float: left;margin-right: 0.25em;color: #696969;}#sk-container-id-4 label.sk-toggleable__label-arrow:hover:before {color: black;}#sk-container-id-4 div.sk-estimator:hover label.sk-toggleable__label-arrow:before {color: black;}#sk-container-id-4 div.sk-toggleable__content {max-height: 0;max-width: 0;overflow: hidden;text-align: left;background-color: #f0f8ff;}#sk-container-id-4 div.sk-toggleable__content pre {margin: 0.2em;color: black;border-radius: 0.25em;background-color: #f0f8ff;}#sk-container-id-4 input.sk-toggleable__control:checked~div.sk-toggleable__content {max-height: 200px;max-width: 100%;overflow: auto;}#sk-container-id-4 input.sk-toggleable__control:checked~label.sk-toggleable__label-arrow:before {content: \"▾\";}#sk-container-id-4 div.sk-estimator input.sk-toggleable__control:checked~label.sk-toggleable__label {background-color: #d4ebff;}#sk-container-id-4 div.sk-label input.sk-toggleable__control:checked~label.sk-toggleable__label {background-color: #d4ebff;}#sk-container-id-4 input.sk-hidden--visually {border: 0;clip: rect(1px 1px 1px 1px);clip: rect(1px, 1px, 1px, 1px);height: 1px;margin: -1px;overflow: hidden;padding: 0;position: absolute;width: 1px;}#sk-container-id-4 div.sk-estimator {font-family: monospace;background-color: #f0f8ff;border: 1px dotted black;border-radius: 0.25em;box-sizing: border-box;margin-bottom: 0.5em;}#sk-container-id-4 div.sk-estimator:hover {background-color: #d4ebff;}#sk-container-id-4 div.sk-parallel-item::after {content: \"\";width: 100%;border-bottom: 1px solid gray;flex-grow: 1;}#sk-container-id-4 div.sk-label:hover label.sk-toggleable__label {background-color: #d4ebff;}#sk-container-id-4 div.sk-serial::before {content: \"\";position: absolute;border-left: 1px solid gray;box-sizing: border-box;top: 0;bottom: 0;left: 50%;z-index: 0;}#sk-container-id-4 div.sk-serial {display: flex;flex-direction: column;align-items: center;background-color: white;padding-right: 0.2em;padding-left: 0.2em;position: relative;}#sk-container-id-4 div.sk-item {position: relative;z-index: 1;}#sk-container-id-4 div.sk-parallel {display: flex;align-items: stretch;justify-content: center;background-color: white;position: relative;}#sk-container-id-4 div.sk-item::before, #sk-container-id-4 div.sk-parallel-item::before {content: \"\";position: absolute;border-left: 1px solid gray;box-sizing: border-box;top: 0;bottom: 0;left: 50%;z-index: -1;}#sk-container-id-4 div.sk-parallel-item {display: flex;flex-direction: column;z-index: 1;position: relative;background-color: white;}#sk-container-id-4 div.sk-parallel-item:first-child::after {align-self: flex-end;width: 50%;}#sk-container-id-4 div.sk-parallel-item:last-child::after {align-self: flex-start;width: 50%;}#sk-container-id-4 div.sk-parallel-item:only-child::after {width: 0;}#sk-container-id-4 div.sk-dashed-wrapped {border: 1px dashed gray;margin: 0 0.4em 0.5em 0.4em;box-sizing: border-box;padding-bottom: 0.4em;background-color: white;}#sk-container-id-4 div.sk-label label {font-family: monospace;font-weight: bold;display: inline-block;line-height: 1.2em;}#sk-container-id-4 div.sk-label-container {text-align: center;}#sk-container-id-4 div.sk-container {/* jupyter's `normalize.less` sets `[hidden] { display: none; }` but bootstrap.min.css set `[hidden] { display: none !important; }` so we also need the `!important` here to be able to override the default hidden behavior on the sphinx rendered scikit-learn.org. See: https://github.com/scikit-learn/scikit-learn/issues/21755 */display: inline-block !important;position: relative;}#sk-container-id-4 div.sk-text-repr-fallback {display: none;}</style><div id=\"sk-container-id-4\" class=\"sk-top-container\"><div class=\"sk-text-repr-fallback\"><pre>GridSearchCV(cv=5, estimator=RandomForestClassifier(random_state=42),\n",
       "             param_grid={&#x27;max_depth&#x27;: [None, 10, 20, 30],\n",
       "                         &#x27;min_samples_leaf&#x27;: [1, 2, 4],\n",
       "                         &#x27;min_samples_split&#x27;: [2, 5, 10],\n",
       "                         &#x27;n_estimators&#x27;: [50, 100, 200]},\n",
       "             scoring=&#x27;accuracy&#x27;)</pre><b>In a Jupyter environment, please rerun this cell to show the HTML representation or trust the notebook. <br />On GitHub, the HTML representation is unable to render, please try loading this page with nbviewer.org.</b></div><div class=\"sk-container\" hidden><div class=\"sk-item sk-dashed-wrapped\"><div class=\"sk-label-container\"><div class=\"sk-label sk-toggleable\"><input class=\"sk-toggleable__control sk-hidden--visually\" id=\"sk-estimator-id-12\" type=\"checkbox\" ><label for=\"sk-estimator-id-12\" class=\"sk-toggleable__label sk-toggleable__label-arrow\">GridSearchCV</label><div class=\"sk-toggleable__content\"><pre>GridSearchCV(cv=5, estimator=RandomForestClassifier(random_state=42),\n",
       "             param_grid={&#x27;max_depth&#x27;: [None, 10, 20, 30],\n",
       "                         &#x27;min_samples_leaf&#x27;: [1, 2, 4],\n",
       "                         &#x27;min_samples_split&#x27;: [2, 5, 10],\n",
       "                         &#x27;n_estimators&#x27;: [50, 100, 200]},\n",
       "             scoring=&#x27;accuracy&#x27;)</pre></div></div></div><div class=\"sk-parallel\"><div class=\"sk-parallel-item\"><div class=\"sk-item\"><div class=\"sk-label-container\"><div class=\"sk-label sk-toggleable\"><input class=\"sk-toggleable__control sk-hidden--visually\" id=\"sk-estimator-id-13\" type=\"checkbox\" ><label for=\"sk-estimator-id-13\" class=\"sk-toggleable__label sk-toggleable__label-arrow\">estimator: RandomForestClassifier</label><div class=\"sk-toggleable__content\"><pre>RandomForestClassifier(random_state=42)</pre></div></div></div><div class=\"sk-serial\"><div class=\"sk-item\"><div class=\"sk-estimator sk-toggleable\"><input class=\"sk-toggleable__control sk-hidden--visually\" id=\"sk-estimator-id-14\" type=\"checkbox\" ><label for=\"sk-estimator-id-14\" class=\"sk-toggleable__label sk-toggleable__label-arrow\">RandomForestClassifier</label><div class=\"sk-toggleable__content\"><pre>RandomForestClassifier(random_state=42)</pre></div></div></div></div></div></div></div></div></div></div>"
      ],
      "text/plain": [
       "GridSearchCV(cv=5, estimator=RandomForestClassifier(random_state=42),\n",
       "             param_grid={'max_depth': [None, 10, 20, 30],\n",
       "                         'min_samples_leaf': [1, 2, 4],\n",
       "                         'min_samples_split': [2, 5, 10],\n",
       "                         'n_estimators': [50, 100, 200]},\n",
       "             scoring='accuracy')"
      ]
     },
     "execution_count": 27,
     "metadata": {},
     "output_type": "execute_result"
    }
   ],
   "source": [
    "# RandomForest GridSearchCV\n",
    "rf_grid_search = GridSearchCV(rf_classifier, param_grid_rf, cv=5, scoring='accuracy')\n",
    "rf_grid_search.fit(X_train, y_train)"
   ]
  },
  {
   "cell_type": "markdown",
   "metadata": {},
   "source": [
    "### Model Terbaik"
   ]
  },
  {
   "cell_type": "code",
   "execution_count": 28,
   "metadata": {},
   "outputs": [],
   "source": [
    "# Ambil model terbaik dari hasil GridSearchCV\n",
    "best_dt_model = dt_grid_search.best_estimator_\n",
    "best_rf_model = rf_grid_search.best_estimator_\n",
    "\n",
    "# Prediksi menggunakan model terbaik\n",
    "dt_predictions = best_dt_model.predict(X_test)\n",
    "rf_predictions = best_rf_model.predict(X_test)"
   ]
  },
  {
   "cell_type": "markdown",
   "metadata": {},
   "source": [
    "### Evaluasi Model"
   ]
  },
  {
   "cell_type": "code",
   "execution_count": 29,
   "metadata": {},
   "outputs": [],
   "source": [
    "# Evaluasi akurasi\n",
    "dt_accuracy = accuracy_score(y_test, dt_predictions)\n",
    "rf_accuracy = accuracy_score(y_test, rf_predictions)"
   ]
  },
  {
   "cell_type": "code",
   "execution_count": 30,
   "metadata": {},
   "outputs": [
    {
     "name": "stdout",
     "output_type": "stream",
     "text": [
      "Decision Tree GridSearchCV Results:\n",
      "Best Parameters:  {'ccp_alpha': 0.001, 'max_depth': None, 'min_samples_leaf': 2, 'min_samples_split': 2}\n",
      "Best Cross-validated Accuracy: 100.00%\n",
      "\n",
      "All Results:\n",
      "Mean Accuracy: 99.96% | Parameters: {'ccp_alpha': 0.001, 'max_depth': None, 'min_samples_leaf': 1, 'min_samples_split': 2}\n",
      "Mean Accuracy: 99.96% | Parameters: {'ccp_alpha': 0.001, 'max_depth': None, 'min_samples_leaf': 1, 'min_samples_split': 5}\n",
      "Mean Accuracy: 99.96% | Parameters: {'ccp_alpha': 0.001, 'max_depth': None, 'min_samples_leaf': 1, 'min_samples_split': 10}\n",
      "Mean Accuracy: 100.00% | Parameters: {'ccp_alpha': 0.001, 'max_depth': None, 'min_samples_leaf': 2, 'min_samples_split': 2}\n",
      "Mean Accuracy: 100.00% | Parameters: {'ccp_alpha': 0.001, 'max_depth': None, 'min_samples_leaf': 2, 'min_samples_split': 5}\n",
      "Mean Accuracy: 100.00% | Parameters: {'ccp_alpha': 0.001, 'max_depth': None, 'min_samples_leaf': 2, 'min_samples_split': 10}\n",
      "Mean Accuracy: 99.91% | Parameters: {'ccp_alpha': 0.001, 'max_depth': None, 'min_samples_leaf': 4, 'min_samples_split': 2}\n",
      "Mean Accuracy: 99.91% | Parameters: {'ccp_alpha': 0.001, 'max_depth': None, 'min_samples_leaf': 4, 'min_samples_split': 5}\n",
      "Mean Accuracy: 99.91% | Parameters: {'ccp_alpha': 0.001, 'max_depth': None, 'min_samples_leaf': 4, 'min_samples_split': 10}\n",
      "Mean Accuracy: 99.96% | Parameters: {'ccp_alpha': 0.001, 'max_depth': 10, 'min_samples_leaf': 1, 'min_samples_split': 2}\n",
      "Mean Accuracy: 99.96% | Parameters: {'ccp_alpha': 0.001, 'max_depth': 10, 'min_samples_leaf': 1, 'min_samples_split': 5}\n",
      "Mean Accuracy: 99.96% | Parameters: {'ccp_alpha': 0.001, 'max_depth': 10, 'min_samples_leaf': 1, 'min_samples_split': 10}\n",
      "Mean Accuracy: 100.00% | Parameters: {'ccp_alpha': 0.001, 'max_depth': 10, 'min_samples_leaf': 2, 'min_samples_split': 2}\n",
      "Mean Accuracy: 100.00% | Parameters: {'ccp_alpha': 0.001, 'max_depth': 10, 'min_samples_leaf': 2, 'min_samples_split': 5}\n",
      "Mean Accuracy: 100.00% | Parameters: {'ccp_alpha': 0.001, 'max_depth': 10, 'min_samples_leaf': 2, 'min_samples_split': 10}\n",
      "Mean Accuracy: 99.91% | Parameters: {'ccp_alpha': 0.001, 'max_depth': 10, 'min_samples_leaf': 4, 'min_samples_split': 2}\n",
      "Mean Accuracy: 99.91% | Parameters: {'ccp_alpha': 0.001, 'max_depth': 10, 'min_samples_leaf': 4, 'min_samples_split': 5}\n",
      "Mean Accuracy: 99.91% | Parameters: {'ccp_alpha': 0.001, 'max_depth': 10, 'min_samples_leaf': 4, 'min_samples_split': 10}\n",
      "Mean Accuracy: 99.96% | Parameters: {'ccp_alpha': 0.001, 'max_depth': 20, 'min_samples_leaf': 1, 'min_samples_split': 2}\n",
      "Mean Accuracy: 99.96% | Parameters: {'ccp_alpha': 0.001, 'max_depth': 20, 'min_samples_leaf': 1, 'min_samples_split': 5}\n",
      "Mean Accuracy: 99.96% | Parameters: {'ccp_alpha': 0.001, 'max_depth': 20, 'min_samples_leaf': 1, 'min_samples_split': 10}\n",
      "Mean Accuracy: 100.00% | Parameters: {'ccp_alpha': 0.001, 'max_depth': 20, 'min_samples_leaf': 2, 'min_samples_split': 2}\n",
      "Mean Accuracy: 100.00% | Parameters: {'ccp_alpha': 0.001, 'max_depth': 20, 'min_samples_leaf': 2, 'min_samples_split': 5}\n",
      "Mean Accuracy: 100.00% | Parameters: {'ccp_alpha': 0.001, 'max_depth': 20, 'min_samples_leaf': 2, 'min_samples_split': 10}\n",
      "Mean Accuracy: 99.91% | Parameters: {'ccp_alpha': 0.001, 'max_depth': 20, 'min_samples_leaf': 4, 'min_samples_split': 2}\n",
      "Mean Accuracy: 99.91% | Parameters: {'ccp_alpha': 0.001, 'max_depth': 20, 'min_samples_leaf': 4, 'min_samples_split': 5}\n",
      "Mean Accuracy: 99.91% | Parameters: {'ccp_alpha': 0.001, 'max_depth': 20, 'min_samples_leaf': 4, 'min_samples_split': 10}\n",
      "Mean Accuracy: 99.96% | Parameters: {'ccp_alpha': 0.001, 'max_depth': 30, 'min_samples_leaf': 1, 'min_samples_split': 2}\n",
      "Mean Accuracy: 99.96% | Parameters: {'ccp_alpha': 0.001, 'max_depth': 30, 'min_samples_leaf': 1, 'min_samples_split': 5}\n",
      "Mean Accuracy: 99.96% | Parameters: {'ccp_alpha': 0.001, 'max_depth': 30, 'min_samples_leaf': 1, 'min_samples_split': 10}\n",
      "Mean Accuracy: 100.00% | Parameters: {'ccp_alpha': 0.001, 'max_depth': 30, 'min_samples_leaf': 2, 'min_samples_split': 2}\n",
      "Mean Accuracy: 100.00% | Parameters: {'ccp_alpha': 0.001, 'max_depth': 30, 'min_samples_leaf': 2, 'min_samples_split': 5}\n",
      "Mean Accuracy: 100.00% | Parameters: {'ccp_alpha': 0.001, 'max_depth': 30, 'min_samples_leaf': 2, 'min_samples_split': 10}\n",
      "Mean Accuracy: 99.91% | Parameters: {'ccp_alpha': 0.001, 'max_depth': 30, 'min_samples_leaf': 4, 'min_samples_split': 2}\n",
      "Mean Accuracy: 99.91% | Parameters: {'ccp_alpha': 0.001, 'max_depth': 30, 'min_samples_leaf': 4, 'min_samples_split': 5}\n",
      "Mean Accuracy: 99.91% | Parameters: {'ccp_alpha': 0.001, 'max_depth': 30, 'min_samples_leaf': 4, 'min_samples_split': 10}\n",
      "Mean Accuracy: 99.96% | Parameters: {'ccp_alpha': 0.002, 'max_depth': None, 'min_samples_leaf': 1, 'min_samples_split': 2}\n",
      "Mean Accuracy: 99.96% | Parameters: {'ccp_alpha': 0.002, 'max_depth': None, 'min_samples_leaf': 1, 'min_samples_split': 5}\n",
      "Mean Accuracy: 99.96% | Parameters: {'ccp_alpha': 0.002, 'max_depth': None, 'min_samples_leaf': 1, 'min_samples_split': 10}\n",
      "Mean Accuracy: 100.00% | Parameters: {'ccp_alpha': 0.002, 'max_depth': None, 'min_samples_leaf': 2, 'min_samples_split': 2}\n",
      "Mean Accuracy: 100.00% | Parameters: {'ccp_alpha': 0.002, 'max_depth': None, 'min_samples_leaf': 2, 'min_samples_split': 5}\n",
      "Mean Accuracy: 100.00% | Parameters: {'ccp_alpha': 0.002, 'max_depth': None, 'min_samples_leaf': 2, 'min_samples_split': 10}\n",
      "Mean Accuracy: 99.91% | Parameters: {'ccp_alpha': 0.002, 'max_depth': None, 'min_samples_leaf': 4, 'min_samples_split': 2}\n",
      "Mean Accuracy: 99.91% | Parameters: {'ccp_alpha': 0.002, 'max_depth': None, 'min_samples_leaf': 4, 'min_samples_split': 5}\n",
      "Mean Accuracy: 99.91% | Parameters: {'ccp_alpha': 0.002, 'max_depth': None, 'min_samples_leaf': 4, 'min_samples_split': 10}\n",
      "Mean Accuracy: 99.96% | Parameters: {'ccp_alpha': 0.002, 'max_depth': 10, 'min_samples_leaf': 1, 'min_samples_split': 2}\n",
      "Mean Accuracy: 99.96% | Parameters: {'ccp_alpha': 0.002, 'max_depth': 10, 'min_samples_leaf': 1, 'min_samples_split': 5}\n",
      "Mean Accuracy: 99.96% | Parameters: {'ccp_alpha': 0.002, 'max_depth': 10, 'min_samples_leaf': 1, 'min_samples_split': 10}\n",
      "Mean Accuracy: 100.00% | Parameters: {'ccp_alpha': 0.002, 'max_depth': 10, 'min_samples_leaf': 2, 'min_samples_split': 2}\n",
      "Mean Accuracy: 100.00% | Parameters: {'ccp_alpha': 0.002, 'max_depth': 10, 'min_samples_leaf': 2, 'min_samples_split': 5}\n",
      "Mean Accuracy: 100.00% | Parameters: {'ccp_alpha': 0.002, 'max_depth': 10, 'min_samples_leaf': 2, 'min_samples_split': 10}\n",
      "Mean Accuracy: 99.91% | Parameters: {'ccp_alpha': 0.002, 'max_depth': 10, 'min_samples_leaf': 4, 'min_samples_split': 2}\n",
      "Mean Accuracy: 99.91% | Parameters: {'ccp_alpha': 0.002, 'max_depth': 10, 'min_samples_leaf': 4, 'min_samples_split': 5}\n",
      "Mean Accuracy: 99.91% | Parameters: {'ccp_alpha': 0.002, 'max_depth': 10, 'min_samples_leaf': 4, 'min_samples_split': 10}\n",
      "Mean Accuracy: 99.96% | Parameters: {'ccp_alpha': 0.002, 'max_depth': 20, 'min_samples_leaf': 1, 'min_samples_split': 2}\n",
      "Mean Accuracy: 99.96% | Parameters: {'ccp_alpha': 0.002, 'max_depth': 20, 'min_samples_leaf': 1, 'min_samples_split': 5}\n",
      "Mean Accuracy: 99.96% | Parameters: {'ccp_alpha': 0.002, 'max_depth': 20, 'min_samples_leaf': 1, 'min_samples_split': 10}\n",
      "Mean Accuracy: 100.00% | Parameters: {'ccp_alpha': 0.002, 'max_depth': 20, 'min_samples_leaf': 2, 'min_samples_split': 2}\n",
      "Mean Accuracy: 100.00% | Parameters: {'ccp_alpha': 0.002, 'max_depth': 20, 'min_samples_leaf': 2, 'min_samples_split': 5}\n",
      "Mean Accuracy: 100.00% | Parameters: {'ccp_alpha': 0.002, 'max_depth': 20, 'min_samples_leaf': 2, 'min_samples_split': 10}\n",
      "Mean Accuracy: 99.91% | Parameters: {'ccp_alpha': 0.002, 'max_depth': 20, 'min_samples_leaf': 4, 'min_samples_split': 2}\n",
      "Mean Accuracy: 99.91% | Parameters: {'ccp_alpha': 0.002, 'max_depth': 20, 'min_samples_leaf': 4, 'min_samples_split': 5}\n",
      "Mean Accuracy: 99.91% | Parameters: {'ccp_alpha': 0.002, 'max_depth': 20, 'min_samples_leaf': 4, 'min_samples_split': 10}\n",
      "Mean Accuracy: 99.96% | Parameters: {'ccp_alpha': 0.002, 'max_depth': 30, 'min_samples_leaf': 1, 'min_samples_split': 2}\n",
      "Mean Accuracy: 99.96% | Parameters: {'ccp_alpha': 0.002, 'max_depth': 30, 'min_samples_leaf': 1, 'min_samples_split': 5}\n",
      "Mean Accuracy: 99.96% | Parameters: {'ccp_alpha': 0.002, 'max_depth': 30, 'min_samples_leaf': 1, 'min_samples_split': 10}\n",
      "Mean Accuracy: 100.00% | Parameters: {'ccp_alpha': 0.002, 'max_depth': 30, 'min_samples_leaf': 2, 'min_samples_split': 2}\n",
      "Mean Accuracy: 100.00% | Parameters: {'ccp_alpha': 0.002, 'max_depth': 30, 'min_samples_leaf': 2, 'min_samples_split': 5}\n",
      "Mean Accuracy: 100.00% | Parameters: {'ccp_alpha': 0.002, 'max_depth': 30, 'min_samples_leaf': 2, 'min_samples_split': 10}\n",
      "Mean Accuracy: 99.91% | Parameters: {'ccp_alpha': 0.002, 'max_depth': 30, 'min_samples_leaf': 4, 'min_samples_split': 2}\n",
      "Mean Accuracy: 99.91% | Parameters: {'ccp_alpha': 0.002, 'max_depth': 30, 'min_samples_leaf': 4, 'min_samples_split': 5}\n",
      "Mean Accuracy: 99.91% | Parameters: {'ccp_alpha': 0.002, 'max_depth': 30, 'min_samples_leaf': 4, 'min_samples_split': 10}\n",
      "Mean Accuracy: 99.95% | Parameters: {'ccp_alpha': 0.003, 'max_depth': None, 'min_samples_leaf': 1, 'min_samples_split': 2}\n",
      "Mean Accuracy: 99.95% | Parameters: {'ccp_alpha': 0.003, 'max_depth': None, 'min_samples_leaf': 1, 'min_samples_split': 5}\n",
      "Mean Accuracy: 99.95% | Parameters: {'ccp_alpha': 0.003, 'max_depth': None, 'min_samples_leaf': 1, 'min_samples_split': 10}\n",
      "Mean Accuracy: 99.95% | Parameters: {'ccp_alpha': 0.003, 'max_depth': None, 'min_samples_leaf': 2, 'min_samples_split': 2}\n",
      "Mean Accuracy: 99.95% | Parameters: {'ccp_alpha': 0.003, 'max_depth': None, 'min_samples_leaf': 2, 'min_samples_split': 5}\n",
      "Mean Accuracy: 99.95% | Parameters: {'ccp_alpha': 0.003, 'max_depth': None, 'min_samples_leaf': 2, 'min_samples_split': 10}\n",
      "Mean Accuracy: 99.91% | Parameters: {'ccp_alpha': 0.003, 'max_depth': None, 'min_samples_leaf': 4, 'min_samples_split': 2}\n",
      "Mean Accuracy: 99.91% | Parameters: {'ccp_alpha': 0.003, 'max_depth': None, 'min_samples_leaf': 4, 'min_samples_split': 5}\n",
      "Mean Accuracy: 99.91% | Parameters: {'ccp_alpha': 0.003, 'max_depth': None, 'min_samples_leaf': 4, 'min_samples_split': 10}\n",
      "Mean Accuracy: 99.95% | Parameters: {'ccp_alpha': 0.003, 'max_depth': 10, 'min_samples_leaf': 1, 'min_samples_split': 2}\n",
      "Mean Accuracy: 99.95% | Parameters: {'ccp_alpha': 0.003, 'max_depth': 10, 'min_samples_leaf': 1, 'min_samples_split': 5}\n",
      "Mean Accuracy: 99.95% | Parameters: {'ccp_alpha': 0.003, 'max_depth': 10, 'min_samples_leaf': 1, 'min_samples_split': 10}\n",
      "Mean Accuracy: 99.95% | Parameters: {'ccp_alpha': 0.003, 'max_depth': 10, 'min_samples_leaf': 2, 'min_samples_split': 2}\n",
      "Mean Accuracy: 99.95% | Parameters: {'ccp_alpha': 0.003, 'max_depth': 10, 'min_samples_leaf': 2, 'min_samples_split': 5}\n",
      "Mean Accuracy: 99.95% | Parameters: {'ccp_alpha': 0.003, 'max_depth': 10, 'min_samples_leaf': 2, 'min_samples_split': 10}\n",
      "Mean Accuracy: 99.91% | Parameters: {'ccp_alpha': 0.003, 'max_depth': 10, 'min_samples_leaf': 4, 'min_samples_split': 2}\n",
      "Mean Accuracy: 99.91% | Parameters: {'ccp_alpha': 0.003, 'max_depth': 10, 'min_samples_leaf': 4, 'min_samples_split': 5}\n",
      "Mean Accuracy: 99.91% | Parameters: {'ccp_alpha': 0.003, 'max_depth': 10, 'min_samples_leaf': 4, 'min_samples_split': 10}\n",
      "Mean Accuracy: 99.95% | Parameters: {'ccp_alpha': 0.003, 'max_depth': 20, 'min_samples_leaf': 1, 'min_samples_split': 2}\n",
      "Mean Accuracy: 99.95% | Parameters: {'ccp_alpha': 0.003, 'max_depth': 20, 'min_samples_leaf': 1, 'min_samples_split': 5}\n",
      "Mean Accuracy: 99.95% | Parameters: {'ccp_alpha': 0.003, 'max_depth': 20, 'min_samples_leaf': 1, 'min_samples_split': 10}\n",
      "Mean Accuracy: 99.95% | Parameters: {'ccp_alpha': 0.003, 'max_depth': 20, 'min_samples_leaf': 2, 'min_samples_split': 2}\n",
      "Mean Accuracy: 99.95% | Parameters: {'ccp_alpha': 0.003, 'max_depth': 20, 'min_samples_leaf': 2, 'min_samples_split': 5}\n",
      "Mean Accuracy: 99.95% | Parameters: {'ccp_alpha': 0.003, 'max_depth': 20, 'min_samples_leaf': 2, 'min_samples_split': 10}\n",
      "Mean Accuracy: 99.91% | Parameters: {'ccp_alpha': 0.003, 'max_depth': 20, 'min_samples_leaf': 4, 'min_samples_split': 2}\n",
      "Mean Accuracy: 99.91% | Parameters: {'ccp_alpha': 0.003, 'max_depth': 20, 'min_samples_leaf': 4, 'min_samples_split': 5}\n",
      "Mean Accuracy: 99.91% | Parameters: {'ccp_alpha': 0.003, 'max_depth': 20, 'min_samples_leaf': 4, 'min_samples_split': 10}\n",
      "Mean Accuracy: 99.95% | Parameters: {'ccp_alpha': 0.003, 'max_depth': 30, 'min_samples_leaf': 1, 'min_samples_split': 2}\n",
      "Mean Accuracy: 99.95% | Parameters: {'ccp_alpha': 0.003, 'max_depth': 30, 'min_samples_leaf': 1, 'min_samples_split': 5}\n",
      "Mean Accuracy: 99.95% | Parameters: {'ccp_alpha': 0.003, 'max_depth': 30, 'min_samples_leaf': 1, 'min_samples_split': 10}\n",
      "Mean Accuracy: 99.95% | Parameters: {'ccp_alpha': 0.003, 'max_depth': 30, 'min_samples_leaf': 2, 'min_samples_split': 2}\n",
      "Mean Accuracy: 99.95% | Parameters: {'ccp_alpha': 0.003, 'max_depth': 30, 'min_samples_leaf': 2, 'min_samples_split': 5}\n",
      "Mean Accuracy: 99.95% | Parameters: {'ccp_alpha': 0.003, 'max_depth': 30, 'min_samples_leaf': 2, 'min_samples_split': 10}\n",
      "Mean Accuracy: 99.91% | Parameters: {'ccp_alpha': 0.003, 'max_depth': 30, 'min_samples_leaf': 4, 'min_samples_split': 2}\n",
      "Mean Accuracy: 99.91% | Parameters: {'ccp_alpha': 0.003, 'max_depth': 30, 'min_samples_leaf': 4, 'min_samples_split': 5}\n",
      "Mean Accuracy: 99.91% | Parameters: {'ccp_alpha': 0.003, 'max_depth': 30, 'min_samples_leaf': 4, 'min_samples_split': 10}\n",
      "Mean Accuracy: 99.91% | Parameters: {'ccp_alpha': 0.004, 'max_depth': None, 'min_samples_leaf': 1, 'min_samples_split': 2}\n",
      "Mean Accuracy: 99.91% | Parameters: {'ccp_alpha': 0.004, 'max_depth': None, 'min_samples_leaf': 1, 'min_samples_split': 5}\n",
      "Mean Accuracy: 99.91% | Parameters: {'ccp_alpha': 0.004, 'max_depth': None, 'min_samples_leaf': 1, 'min_samples_split': 10}\n",
      "Mean Accuracy: 99.91% | Parameters: {'ccp_alpha': 0.004, 'max_depth': None, 'min_samples_leaf': 2, 'min_samples_split': 2}\n",
      "Mean Accuracy: 99.91% | Parameters: {'ccp_alpha': 0.004, 'max_depth': None, 'min_samples_leaf': 2, 'min_samples_split': 5}\n",
      "Mean Accuracy: 99.91% | Parameters: {'ccp_alpha': 0.004, 'max_depth': None, 'min_samples_leaf': 2, 'min_samples_split': 10}\n",
      "Mean Accuracy: 99.91% | Parameters: {'ccp_alpha': 0.004, 'max_depth': None, 'min_samples_leaf': 4, 'min_samples_split': 2}\n",
      "Mean Accuracy: 99.91% | Parameters: {'ccp_alpha': 0.004, 'max_depth': None, 'min_samples_leaf': 4, 'min_samples_split': 5}\n",
      "Mean Accuracy: 99.91% | Parameters: {'ccp_alpha': 0.004, 'max_depth': None, 'min_samples_leaf': 4, 'min_samples_split': 10}\n",
      "Mean Accuracy: 99.91% | Parameters: {'ccp_alpha': 0.004, 'max_depth': 10, 'min_samples_leaf': 1, 'min_samples_split': 2}\n",
      "Mean Accuracy: 99.91% | Parameters: {'ccp_alpha': 0.004, 'max_depth': 10, 'min_samples_leaf': 1, 'min_samples_split': 5}\n",
      "Mean Accuracy: 99.91% | Parameters: {'ccp_alpha': 0.004, 'max_depth': 10, 'min_samples_leaf': 1, 'min_samples_split': 10}\n",
      "Mean Accuracy: 99.91% | Parameters: {'ccp_alpha': 0.004, 'max_depth': 10, 'min_samples_leaf': 2, 'min_samples_split': 2}\n",
      "Mean Accuracy: 99.91% | Parameters: {'ccp_alpha': 0.004, 'max_depth': 10, 'min_samples_leaf': 2, 'min_samples_split': 5}\n",
      "Mean Accuracy: 99.91% | Parameters: {'ccp_alpha': 0.004, 'max_depth': 10, 'min_samples_leaf': 2, 'min_samples_split': 10}\n",
      "Mean Accuracy: 99.91% | Parameters: {'ccp_alpha': 0.004, 'max_depth': 10, 'min_samples_leaf': 4, 'min_samples_split': 2}\n",
      "Mean Accuracy: 99.91% | Parameters: {'ccp_alpha': 0.004, 'max_depth': 10, 'min_samples_leaf': 4, 'min_samples_split': 5}\n",
      "Mean Accuracy: 99.91% | Parameters: {'ccp_alpha': 0.004, 'max_depth': 10, 'min_samples_leaf': 4, 'min_samples_split': 10}\n",
      "Mean Accuracy: 99.91% | Parameters: {'ccp_alpha': 0.004, 'max_depth': 20, 'min_samples_leaf': 1, 'min_samples_split': 2}\n",
      "Mean Accuracy: 99.91% | Parameters: {'ccp_alpha': 0.004, 'max_depth': 20, 'min_samples_leaf': 1, 'min_samples_split': 5}\n",
      "Mean Accuracy: 99.91% | Parameters: {'ccp_alpha': 0.004, 'max_depth': 20, 'min_samples_leaf': 1, 'min_samples_split': 10}\n",
      "Mean Accuracy: 99.91% | Parameters: {'ccp_alpha': 0.004, 'max_depth': 20, 'min_samples_leaf': 2, 'min_samples_split': 2}\n",
      "Mean Accuracy: 99.91% | Parameters: {'ccp_alpha': 0.004, 'max_depth': 20, 'min_samples_leaf': 2, 'min_samples_split': 5}\n",
      "Mean Accuracy: 99.91% | Parameters: {'ccp_alpha': 0.004, 'max_depth': 20, 'min_samples_leaf': 2, 'min_samples_split': 10}\n",
      "Mean Accuracy: 99.91% | Parameters: {'ccp_alpha': 0.004, 'max_depth': 20, 'min_samples_leaf': 4, 'min_samples_split': 2}\n",
      "Mean Accuracy: 99.91% | Parameters: {'ccp_alpha': 0.004, 'max_depth': 20, 'min_samples_leaf': 4, 'min_samples_split': 5}\n",
      "Mean Accuracy: 99.91% | Parameters: {'ccp_alpha': 0.004, 'max_depth': 20, 'min_samples_leaf': 4, 'min_samples_split': 10}\n",
      "Mean Accuracy: 99.91% | Parameters: {'ccp_alpha': 0.004, 'max_depth': 30, 'min_samples_leaf': 1, 'min_samples_split': 2}\n",
      "Mean Accuracy: 99.91% | Parameters: {'ccp_alpha': 0.004, 'max_depth': 30, 'min_samples_leaf': 1, 'min_samples_split': 5}\n",
      "Mean Accuracy: 99.91% | Parameters: {'ccp_alpha': 0.004, 'max_depth': 30, 'min_samples_leaf': 1, 'min_samples_split': 10}\n",
      "Mean Accuracy: 99.91% | Parameters: {'ccp_alpha': 0.004, 'max_depth': 30, 'min_samples_leaf': 2, 'min_samples_split': 2}\n",
      "Mean Accuracy: 99.91% | Parameters: {'ccp_alpha': 0.004, 'max_depth': 30, 'min_samples_leaf': 2, 'min_samples_split': 5}\n",
      "Mean Accuracy: 99.91% | Parameters: {'ccp_alpha': 0.004, 'max_depth': 30, 'min_samples_leaf': 2, 'min_samples_split': 10}\n",
      "Mean Accuracy: 99.91% | Parameters: {'ccp_alpha': 0.004, 'max_depth': 30, 'min_samples_leaf': 4, 'min_samples_split': 2}\n",
      "Mean Accuracy: 99.91% | Parameters: {'ccp_alpha': 0.004, 'max_depth': 30, 'min_samples_leaf': 4, 'min_samples_split': 5}\n",
      "Mean Accuracy: 99.91% | Parameters: {'ccp_alpha': 0.004, 'max_depth': 30, 'min_samples_leaf': 4, 'min_samples_split': 10}\n"
     ]
    }
   ],
   "source": [
    "# Print results for Decision Tree\n",
    "print(\"Decision Tree GridSearchCV Results:\")\n",
    "print(\"Best Parameters: \", dt_grid_search.best_params_)\n",
    "print(\"Best Cross-validated Accuracy: {:.2f}%\".format(dt_grid_search.best_score_ * 100))\n",
    "\n",
    "# Print all results (optional)\n",
    "print(\"\\nAll Results:\")\n",
    "for mean_score, params in zip(dt_grid_search.cv_results_['mean_test_score'], dt_grid_search.cv_results_['params']):\n",
    "    print(\"Mean Accuracy: {:.2f}% | Parameters: {}\".format(mean_score * 100, params))"
   ]
  },
  {
   "cell_type": "code",
   "execution_count": 31,
   "metadata": {},
   "outputs": [
    {
     "name": "stdout",
     "output_type": "stream",
     "text": [
      "\n",
      "RandomForest GridSearchCV Results:\n",
      "Best Parameters:  {'max_depth': None, 'min_samples_leaf': 1, 'min_samples_split': 2, 'n_estimators': 50}\n",
      "Best Cross-validated Accuracy: 100.00%\n",
      "\n",
      "All Results:\n",
      "Mean Accuracy: 100.00% | Parameters: {'max_depth': None, 'min_samples_leaf': 1, 'min_samples_split': 2, 'n_estimators': 50}\n",
      "Mean Accuracy: 100.00% | Parameters: {'max_depth': None, 'min_samples_leaf': 1, 'min_samples_split': 2, 'n_estimators': 100}\n",
      "Mean Accuracy: 100.00% | Parameters: {'max_depth': None, 'min_samples_leaf': 1, 'min_samples_split': 2, 'n_estimators': 200}\n",
      "Mean Accuracy: 100.00% | Parameters: {'max_depth': None, 'min_samples_leaf': 1, 'min_samples_split': 5, 'n_estimators': 50}\n",
      "Mean Accuracy: 100.00% | Parameters: {'max_depth': None, 'min_samples_leaf': 1, 'min_samples_split': 5, 'n_estimators': 100}\n",
      "Mean Accuracy: 100.00% | Parameters: {'max_depth': None, 'min_samples_leaf': 1, 'min_samples_split': 5, 'n_estimators': 200}\n",
      "Mean Accuracy: 100.00% | Parameters: {'max_depth': None, 'min_samples_leaf': 1, 'min_samples_split': 10, 'n_estimators': 50}\n",
      "Mean Accuracy: 100.00% | Parameters: {'max_depth': None, 'min_samples_leaf': 1, 'min_samples_split': 10, 'n_estimators': 100}\n",
      "Mean Accuracy: 100.00% | Parameters: {'max_depth': None, 'min_samples_leaf': 1, 'min_samples_split': 10, 'n_estimators': 200}\n",
      "Mean Accuracy: 100.00% | Parameters: {'max_depth': None, 'min_samples_leaf': 2, 'min_samples_split': 2, 'n_estimators': 50}\n",
      "Mean Accuracy: 100.00% | Parameters: {'max_depth': None, 'min_samples_leaf': 2, 'min_samples_split': 2, 'n_estimators': 100}\n",
      "Mean Accuracy: 100.00% | Parameters: {'max_depth': None, 'min_samples_leaf': 2, 'min_samples_split': 2, 'n_estimators': 200}\n",
      "Mean Accuracy: 100.00% | Parameters: {'max_depth': None, 'min_samples_leaf': 2, 'min_samples_split': 5, 'n_estimators': 50}\n",
      "Mean Accuracy: 100.00% | Parameters: {'max_depth': None, 'min_samples_leaf': 2, 'min_samples_split': 5, 'n_estimators': 100}\n",
      "Mean Accuracy: 100.00% | Parameters: {'max_depth': None, 'min_samples_leaf': 2, 'min_samples_split': 5, 'n_estimators': 200}\n",
      "Mean Accuracy: 100.00% | Parameters: {'max_depth': None, 'min_samples_leaf': 2, 'min_samples_split': 10, 'n_estimators': 50}\n",
      "Mean Accuracy: 100.00% | Parameters: {'max_depth': None, 'min_samples_leaf': 2, 'min_samples_split': 10, 'n_estimators': 100}\n",
      "Mean Accuracy: 100.00% | Parameters: {'max_depth': None, 'min_samples_leaf': 2, 'min_samples_split': 10, 'n_estimators': 200}\n",
      "Mean Accuracy: 99.91% | Parameters: {'max_depth': None, 'min_samples_leaf': 4, 'min_samples_split': 2, 'n_estimators': 50}\n",
      "Mean Accuracy: 99.91% | Parameters: {'max_depth': None, 'min_samples_leaf': 4, 'min_samples_split': 2, 'n_estimators': 100}\n",
      "Mean Accuracy: 99.91% | Parameters: {'max_depth': None, 'min_samples_leaf': 4, 'min_samples_split': 2, 'n_estimators': 200}\n",
      "Mean Accuracy: 99.91% | Parameters: {'max_depth': None, 'min_samples_leaf': 4, 'min_samples_split': 5, 'n_estimators': 50}\n",
      "Mean Accuracy: 99.91% | Parameters: {'max_depth': None, 'min_samples_leaf': 4, 'min_samples_split': 5, 'n_estimators': 100}\n",
      "Mean Accuracy: 99.91% | Parameters: {'max_depth': None, 'min_samples_leaf': 4, 'min_samples_split': 5, 'n_estimators': 200}\n",
      "Mean Accuracy: 99.91% | Parameters: {'max_depth': None, 'min_samples_leaf': 4, 'min_samples_split': 10, 'n_estimators': 50}\n",
      "Mean Accuracy: 99.91% | Parameters: {'max_depth': None, 'min_samples_leaf': 4, 'min_samples_split': 10, 'n_estimators': 100}\n",
      "Mean Accuracy: 99.91% | Parameters: {'max_depth': None, 'min_samples_leaf': 4, 'min_samples_split': 10, 'n_estimators': 200}\n",
      "Mean Accuracy: 100.00% | Parameters: {'max_depth': 10, 'min_samples_leaf': 1, 'min_samples_split': 2, 'n_estimators': 50}\n",
      "Mean Accuracy: 100.00% | Parameters: {'max_depth': 10, 'min_samples_leaf': 1, 'min_samples_split': 2, 'n_estimators': 100}\n",
      "Mean Accuracy: 100.00% | Parameters: {'max_depth': 10, 'min_samples_leaf': 1, 'min_samples_split': 2, 'n_estimators': 200}\n",
      "Mean Accuracy: 100.00% | Parameters: {'max_depth': 10, 'min_samples_leaf': 1, 'min_samples_split': 5, 'n_estimators': 50}\n",
      "Mean Accuracy: 100.00% | Parameters: {'max_depth': 10, 'min_samples_leaf': 1, 'min_samples_split': 5, 'n_estimators': 100}\n",
      "Mean Accuracy: 100.00% | Parameters: {'max_depth': 10, 'min_samples_leaf': 1, 'min_samples_split': 5, 'n_estimators': 200}\n",
      "Mean Accuracy: 100.00% | Parameters: {'max_depth': 10, 'min_samples_leaf': 1, 'min_samples_split': 10, 'n_estimators': 50}\n",
      "Mean Accuracy: 100.00% | Parameters: {'max_depth': 10, 'min_samples_leaf': 1, 'min_samples_split': 10, 'n_estimators': 100}\n",
      "Mean Accuracy: 100.00% | Parameters: {'max_depth': 10, 'min_samples_leaf': 1, 'min_samples_split': 10, 'n_estimators': 200}\n",
      "Mean Accuracy: 100.00% | Parameters: {'max_depth': 10, 'min_samples_leaf': 2, 'min_samples_split': 2, 'n_estimators': 50}\n",
      "Mean Accuracy: 99.98% | Parameters: {'max_depth': 10, 'min_samples_leaf': 2, 'min_samples_split': 2, 'n_estimators': 100}\n",
      "Mean Accuracy: 100.00% | Parameters: {'max_depth': 10, 'min_samples_leaf': 2, 'min_samples_split': 2, 'n_estimators': 200}\n",
      "Mean Accuracy: 100.00% | Parameters: {'max_depth': 10, 'min_samples_leaf': 2, 'min_samples_split': 5, 'n_estimators': 50}\n",
      "Mean Accuracy: 99.96% | Parameters: {'max_depth': 10, 'min_samples_leaf': 2, 'min_samples_split': 5, 'n_estimators': 100}\n",
      "Mean Accuracy: 100.00% | Parameters: {'max_depth': 10, 'min_samples_leaf': 2, 'min_samples_split': 5, 'n_estimators': 200}\n",
      "Mean Accuracy: 99.98% | Parameters: {'max_depth': 10, 'min_samples_leaf': 2, 'min_samples_split': 10, 'n_estimators': 50}\n",
      "Mean Accuracy: 99.95% | Parameters: {'max_depth': 10, 'min_samples_leaf': 2, 'min_samples_split': 10, 'n_estimators': 100}\n",
      "Mean Accuracy: 100.00% | Parameters: {'max_depth': 10, 'min_samples_leaf': 2, 'min_samples_split': 10, 'n_estimators': 200}\n",
      "Mean Accuracy: 99.89% | Parameters: {'max_depth': 10, 'min_samples_leaf': 4, 'min_samples_split': 2, 'n_estimators': 50}\n",
      "Mean Accuracy: 99.89% | Parameters: {'max_depth': 10, 'min_samples_leaf': 4, 'min_samples_split': 2, 'n_estimators': 100}\n",
      "Mean Accuracy: 99.91% | Parameters: {'max_depth': 10, 'min_samples_leaf': 4, 'min_samples_split': 2, 'n_estimators': 200}\n",
      "Mean Accuracy: 99.89% | Parameters: {'max_depth': 10, 'min_samples_leaf': 4, 'min_samples_split': 5, 'n_estimators': 50}\n",
      "Mean Accuracy: 99.89% | Parameters: {'max_depth': 10, 'min_samples_leaf': 4, 'min_samples_split': 5, 'n_estimators': 100}\n",
      "Mean Accuracy: 99.91% | Parameters: {'max_depth': 10, 'min_samples_leaf': 4, 'min_samples_split': 5, 'n_estimators': 200}\n",
      "Mean Accuracy: 99.84% | Parameters: {'max_depth': 10, 'min_samples_leaf': 4, 'min_samples_split': 10, 'n_estimators': 50}\n",
      "Mean Accuracy: 99.84% | Parameters: {'max_depth': 10, 'min_samples_leaf': 4, 'min_samples_split': 10, 'n_estimators': 100}\n",
      "Mean Accuracy: 99.91% | Parameters: {'max_depth': 10, 'min_samples_leaf': 4, 'min_samples_split': 10, 'n_estimators': 200}\n",
      "Mean Accuracy: 100.00% | Parameters: {'max_depth': 20, 'min_samples_leaf': 1, 'min_samples_split': 2, 'n_estimators': 50}\n",
      "Mean Accuracy: 100.00% | Parameters: {'max_depth': 20, 'min_samples_leaf': 1, 'min_samples_split': 2, 'n_estimators': 100}\n",
      "Mean Accuracy: 100.00% | Parameters: {'max_depth': 20, 'min_samples_leaf': 1, 'min_samples_split': 2, 'n_estimators': 200}\n",
      "Mean Accuracy: 100.00% | Parameters: {'max_depth': 20, 'min_samples_leaf': 1, 'min_samples_split': 5, 'n_estimators': 50}\n",
      "Mean Accuracy: 100.00% | Parameters: {'max_depth': 20, 'min_samples_leaf': 1, 'min_samples_split': 5, 'n_estimators': 100}\n",
      "Mean Accuracy: 100.00% | Parameters: {'max_depth': 20, 'min_samples_leaf': 1, 'min_samples_split': 5, 'n_estimators': 200}\n",
      "Mean Accuracy: 100.00% | Parameters: {'max_depth': 20, 'min_samples_leaf': 1, 'min_samples_split': 10, 'n_estimators': 50}\n",
      "Mean Accuracy: 100.00% | Parameters: {'max_depth': 20, 'min_samples_leaf': 1, 'min_samples_split': 10, 'n_estimators': 100}\n",
      "Mean Accuracy: 100.00% | Parameters: {'max_depth': 20, 'min_samples_leaf': 1, 'min_samples_split': 10, 'n_estimators': 200}\n",
      "Mean Accuracy: 100.00% | Parameters: {'max_depth': 20, 'min_samples_leaf': 2, 'min_samples_split': 2, 'n_estimators': 50}\n",
      "Mean Accuracy: 100.00% | Parameters: {'max_depth': 20, 'min_samples_leaf': 2, 'min_samples_split': 2, 'n_estimators': 100}\n",
      "Mean Accuracy: 100.00% | Parameters: {'max_depth': 20, 'min_samples_leaf': 2, 'min_samples_split': 2, 'n_estimators': 200}\n",
      "Mean Accuracy: 100.00% | Parameters: {'max_depth': 20, 'min_samples_leaf': 2, 'min_samples_split': 5, 'n_estimators': 50}\n",
      "Mean Accuracy: 100.00% | Parameters: {'max_depth': 20, 'min_samples_leaf': 2, 'min_samples_split': 5, 'n_estimators': 100}\n",
      "Mean Accuracy: 100.00% | Parameters: {'max_depth': 20, 'min_samples_leaf': 2, 'min_samples_split': 5, 'n_estimators': 200}\n",
      "Mean Accuracy: 100.00% | Parameters: {'max_depth': 20, 'min_samples_leaf': 2, 'min_samples_split': 10, 'n_estimators': 50}\n",
      "Mean Accuracy: 100.00% | Parameters: {'max_depth': 20, 'min_samples_leaf': 2, 'min_samples_split': 10, 'n_estimators': 100}\n",
      "Mean Accuracy: 100.00% | Parameters: {'max_depth': 20, 'min_samples_leaf': 2, 'min_samples_split': 10, 'n_estimators': 200}\n",
      "Mean Accuracy: 99.91% | Parameters: {'max_depth': 20, 'min_samples_leaf': 4, 'min_samples_split': 2, 'n_estimators': 50}\n",
      "Mean Accuracy: 99.91% | Parameters: {'max_depth': 20, 'min_samples_leaf': 4, 'min_samples_split': 2, 'n_estimators': 100}\n",
      "Mean Accuracy: 99.91% | Parameters: {'max_depth': 20, 'min_samples_leaf': 4, 'min_samples_split': 2, 'n_estimators': 200}\n",
      "Mean Accuracy: 99.91% | Parameters: {'max_depth': 20, 'min_samples_leaf': 4, 'min_samples_split': 5, 'n_estimators': 50}\n",
      "Mean Accuracy: 99.91% | Parameters: {'max_depth': 20, 'min_samples_leaf': 4, 'min_samples_split': 5, 'n_estimators': 100}\n",
      "Mean Accuracy: 99.91% | Parameters: {'max_depth': 20, 'min_samples_leaf': 4, 'min_samples_split': 5, 'n_estimators': 200}\n",
      "Mean Accuracy: 99.91% | Parameters: {'max_depth': 20, 'min_samples_leaf': 4, 'min_samples_split': 10, 'n_estimators': 50}\n",
      "Mean Accuracy: 99.91% | Parameters: {'max_depth': 20, 'min_samples_leaf': 4, 'min_samples_split': 10, 'n_estimators': 100}\n",
      "Mean Accuracy: 99.91% | Parameters: {'max_depth': 20, 'min_samples_leaf': 4, 'min_samples_split': 10, 'n_estimators': 200}\n",
      "Mean Accuracy: 100.00% | Parameters: {'max_depth': 30, 'min_samples_leaf': 1, 'min_samples_split': 2, 'n_estimators': 50}\n",
      "Mean Accuracy: 100.00% | Parameters: {'max_depth': 30, 'min_samples_leaf': 1, 'min_samples_split': 2, 'n_estimators': 100}\n",
      "Mean Accuracy: 100.00% | Parameters: {'max_depth': 30, 'min_samples_leaf': 1, 'min_samples_split': 2, 'n_estimators': 200}\n",
      "Mean Accuracy: 100.00% | Parameters: {'max_depth': 30, 'min_samples_leaf': 1, 'min_samples_split': 5, 'n_estimators': 50}\n",
      "Mean Accuracy: 100.00% | Parameters: {'max_depth': 30, 'min_samples_leaf': 1, 'min_samples_split': 5, 'n_estimators': 100}\n",
      "Mean Accuracy: 100.00% | Parameters: {'max_depth': 30, 'min_samples_leaf': 1, 'min_samples_split': 5, 'n_estimators': 200}\n",
      "Mean Accuracy: 100.00% | Parameters: {'max_depth': 30, 'min_samples_leaf': 1, 'min_samples_split': 10, 'n_estimators': 50}\n",
      "Mean Accuracy: 100.00% | Parameters: {'max_depth': 30, 'min_samples_leaf': 1, 'min_samples_split': 10, 'n_estimators': 100}\n",
      "Mean Accuracy: 100.00% | Parameters: {'max_depth': 30, 'min_samples_leaf': 1, 'min_samples_split': 10, 'n_estimators': 200}\n",
      "Mean Accuracy: 100.00% | Parameters: {'max_depth': 30, 'min_samples_leaf': 2, 'min_samples_split': 2, 'n_estimators': 50}\n",
      "Mean Accuracy: 100.00% | Parameters: {'max_depth': 30, 'min_samples_leaf': 2, 'min_samples_split': 2, 'n_estimators': 100}\n",
      "Mean Accuracy: 100.00% | Parameters: {'max_depth': 30, 'min_samples_leaf': 2, 'min_samples_split': 2, 'n_estimators': 200}\n",
      "Mean Accuracy: 100.00% | Parameters: {'max_depth': 30, 'min_samples_leaf': 2, 'min_samples_split': 5, 'n_estimators': 50}\n",
      "Mean Accuracy: 100.00% | Parameters: {'max_depth': 30, 'min_samples_leaf': 2, 'min_samples_split': 5, 'n_estimators': 100}\n",
      "Mean Accuracy: 100.00% | Parameters: {'max_depth': 30, 'min_samples_leaf': 2, 'min_samples_split': 5, 'n_estimators': 200}\n",
      "Mean Accuracy: 100.00% | Parameters: {'max_depth': 30, 'min_samples_leaf': 2, 'min_samples_split': 10, 'n_estimators': 50}\n",
      "Mean Accuracy: 100.00% | Parameters: {'max_depth': 30, 'min_samples_leaf': 2, 'min_samples_split': 10, 'n_estimators': 100}\n",
      "Mean Accuracy: 100.00% | Parameters: {'max_depth': 30, 'min_samples_leaf': 2, 'min_samples_split': 10, 'n_estimators': 200}\n",
      "Mean Accuracy: 99.91% | Parameters: {'max_depth': 30, 'min_samples_leaf': 4, 'min_samples_split': 2, 'n_estimators': 50}\n",
      "Mean Accuracy: 99.91% | Parameters: {'max_depth': 30, 'min_samples_leaf': 4, 'min_samples_split': 2, 'n_estimators': 100}\n",
      "Mean Accuracy: 99.91% | Parameters: {'max_depth': 30, 'min_samples_leaf': 4, 'min_samples_split': 2, 'n_estimators': 200}\n",
      "Mean Accuracy: 99.91% | Parameters: {'max_depth': 30, 'min_samples_leaf': 4, 'min_samples_split': 5, 'n_estimators': 50}\n",
      "Mean Accuracy: 99.91% | Parameters: {'max_depth': 30, 'min_samples_leaf': 4, 'min_samples_split': 5, 'n_estimators': 100}\n",
      "Mean Accuracy: 99.91% | Parameters: {'max_depth': 30, 'min_samples_leaf': 4, 'min_samples_split': 5, 'n_estimators': 200}\n",
      "Mean Accuracy: 99.91% | Parameters: {'max_depth': 30, 'min_samples_leaf': 4, 'min_samples_split': 10, 'n_estimators': 50}\n",
      "Mean Accuracy: 99.91% | Parameters: {'max_depth': 30, 'min_samples_leaf': 4, 'min_samples_split': 10, 'n_estimators': 100}\n",
      "Mean Accuracy: 99.91% | Parameters: {'max_depth': 30, 'min_samples_leaf': 4, 'min_samples_split': 10, 'n_estimators': 200}\n"
     ]
    }
   ],
   "source": [
    "# Print results for RF\n",
    "print(\"\\nRandomForest GridSearchCV Results:\")\n",
    "print(\"Best Parameters: \", rf_grid_search.best_params_)\n",
    "print(\"Best Cross-validated Accuracy: {:.2f}%\".format(rf_grid_search.best_score_ * 100))\n",
    "\n",
    "# Print all results (optional)\n",
    "print(\"\\nAll Results:\")\n",
    "for mean_score, params in zip(rf_grid_search.cv_results_['mean_test_score'], rf_grid_search.cv_results_['params']):\n",
    "    print(\"Mean Accuracy: {:.2f}% | Parameters: {}\".format(mean_score * 100, params))"
   ]
  },
  {
   "cell_type": "markdown",
   "metadata": {},
   "source": [
    "## **Tugas 2**"
   ]
  },
  {
   "cell_type": "code",
   "execution_count": 32,
   "metadata": {},
   "outputs": [],
   "source": [
    "from sklearn.ensemble import AdaBoostClassifier"
   ]
  },
  {
   "cell_type": "markdown",
   "metadata": {},
   "source": [
    "### Split Data"
   ]
  },
  {
   "cell_type": "code",
   "execution_count": 33,
   "metadata": {},
   "outputs": [],
   "source": [
    "# Pisahkan dataset menjadi data latih dan data uji\n",
    "X_train, X_test, y_train, y_test = train_test_split(X, y, test_size=0.3, random_state=42)"
   ]
  },
  {
   "cell_type": "markdown",
   "metadata": {},
   "source": [
    "### Make model"
   ]
  },
  {
   "cell_type": "code",
   "execution_count": 34,
   "metadata": {},
   "outputs": [],
   "source": [
    "# Decision Tree\n",
    "dt2_classifier = DecisionTreeClassifier(criterion='entropy', random_state=42)\n",
    "\n",
    "# AdaBoost\n",
    "adaboost_classifier = AdaBoostClassifier(estimator=dt_classifier, random_state=42)"
   ]
  },
  {
   "cell_type": "markdown",
   "metadata": {},
   "source": [
    "### Hyperparameter"
   ]
  },
  {
   "cell_type": "code",
   "execution_count": 35,
   "metadata": {},
   "outputs": [],
   "source": [
    "# Hyperparameter tuning menggunakan GridSearchCV\n",
    "param_grid_dt2 = {\n",
    "    'max_depth': [None, 10, 20, 30],\n",
    "    'min_samples_split': [2, 5, 10],\n",
    "    'min_samples_leaf': [1, 2, 4],\n",
    "    'ccp_alpha': [0.001, 0.002, 0.003, 0.004]\n",
    "}\n",
    "\n",
    "param_grid_adaboost = {\n",
    "    'n_estimators': [50, 100, 200],\n",
    "    'learning_rate': [0.01, 0.1, 0.5, 1.0],\n",
    "}"
   ]
  },
  {
   "cell_type": "markdown",
   "metadata": {},
   "source": [
    "### GridSearchCV"
   ]
  },
  {
   "cell_type": "code",
   "execution_count": 36,
   "metadata": {},
   "outputs": [
    {
     "data": {
      "text/html": [
       "<style>#sk-container-id-5 {color: black;}#sk-container-id-5 pre{padding: 0;}#sk-container-id-5 div.sk-toggleable {background-color: white;}#sk-container-id-5 label.sk-toggleable__label {cursor: pointer;display: block;width: 100%;margin-bottom: 0;padding: 0.3em;box-sizing: border-box;text-align: center;}#sk-container-id-5 label.sk-toggleable__label-arrow:before {content: \"▸\";float: left;margin-right: 0.25em;color: #696969;}#sk-container-id-5 label.sk-toggleable__label-arrow:hover:before {color: black;}#sk-container-id-5 div.sk-estimator:hover label.sk-toggleable__label-arrow:before {color: black;}#sk-container-id-5 div.sk-toggleable__content {max-height: 0;max-width: 0;overflow: hidden;text-align: left;background-color: #f0f8ff;}#sk-container-id-5 div.sk-toggleable__content pre {margin: 0.2em;color: black;border-radius: 0.25em;background-color: #f0f8ff;}#sk-container-id-5 input.sk-toggleable__control:checked~div.sk-toggleable__content {max-height: 200px;max-width: 100%;overflow: auto;}#sk-container-id-5 input.sk-toggleable__control:checked~label.sk-toggleable__label-arrow:before {content: \"▾\";}#sk-container-id-5 div.sk-estimator input.sk-toggleable__control:checked~label.sk-toggleable__label {background-color: #d4ebff;}#sk-container-id-5 div.sk-label input.sk-toggleable__control:checked~label.sk-toggleable__label {background-color: #d4ebff;}#sk-container-id-5 input.sk-hidden--visually {border: 0;clip: rect(1px 1px 1px 1px);clip: rect(1px, 1px, 1px, 1px);height: 1px;margin: -1px;overflow: hidden;padding: 0;position: absolute;width: 1px;}#sk-container-id-5 div.sk-estimator {font-family: monospace;background-color: #f0f8ff;border: 1px dotted black;border-radius: 0.25em;box-sizing: border-box;margin-bottom: 0.5em;}#sk-container-id-5 div.sk-estimator:hover {background-color: #d4ebff;}#sk-container-id-5 div.sk-parallel-item::after {content: \"\";width: 100%;border-bottom: 1px solid gray;flex-grow: 1;}#sk-container-id-5 div.sk-label:hover label.sk-toggleable__label {background-color: #d4ebff;}#sk-container-id-5 div.sk-serial::before {content: \"\";position: absolute;border-left: 1px solid gray;box-sizing: border-box;top: 0;bottom: 0;left: 50%;z-index: 0;}#sk-container-id-5 div.sk-serial {display: flex;flex-direction: column;align-items: center;background-color: white;padding-right: 0.2em;padding-left: 0.2em;position: relative;}#sk-container-id-5 div.sk-item {position: relative;z-index: 1;}#sk-container-id-5 div.sk-parallel {display: flex;align-items: stretch;justify-content: center;background-color: white;position: relative;}#sk-container-id-5 div.sk-item::before, #sk-container-id-5 div.sk-parallel-item::before {content: \"\";position: absolute;border-left: 1px solid gray;box-sizing: border-box;top: 0;bottom: 0;left: 50%;z-index: -1;}#sk-container-id-5 div.sk-parallel-item {display: flex;flex-direction: column;z-index: 1;position: relative;background-color: white;}#sk-container-id-5 div.sk-parallel-item:first-child::after {align-self: flex-end;width: 50%;}#sk-container-id-5 div.sk-parallel-item:last-child::after {align-self: flex-start;width: 50%;}#sk-container-id-5 div.sk-parallel-item:only-child::after {width: 0;}#sk-container-id-5 div.sk-dashed-wrapped {border: 1px dashed gray;margin: 0 0.4em 0.5em 0.4em;box-sizing: border-box;padding-bottom: 0.4em;background-color: white;}#sk-container-id-5 div.sk-label label {font-family: monospace;font-weight: bold;display: inline-block;line-height: 1.2em;}#sk-container-id-5 div.sk-label-container {text-align: center;}#sk-container-id-5 div.sk-container {/* jupyter's `normalize.less` sets `[hidden] { display: none; }` but bootstrap.min.css set `[hidden] { display: none !important; }` so we also need the `!important` here to be able to override the default hidden behavior on the sphinx rendered scikit-learn.org. See: https://github.com/scikit-learn/scikit-learn/issues/21755 */display: inline-block !important;position: relative;}#sk-container-id-5 div.sk-text-repr-fallback {display: none;}</style><div id=\"sk-container-id-5\" class=\"sk-top-container\"><div class=\"sk-text-repr-fallback\"><pre>GridSearchCV(cv=5,\n",
       "             estimator=DecisionTreeClassifier(criterion=&#x27;entropy&#x27;,\n",
       "                                              random_state=42),\n",
       "             param_grid={&#x27;ccp_alpha&#x27;: [0.001, 0.002, 0.003, 0.004],\n",
       "                         &#x27;max_depth&#x27;: [None, 10, 20, 30],\n",
       "                         &#x27;min_samples_leaf&#x27;: [1, 2, 4],\n",
       "                         &#x27;min_samples_split&#x27;: [2, 5, 10]},\n",
       "             scoring=&#x27;accuracy&#x27;)</pre><b>In a Jupyter environment, please rerun this cell to show the HTML representation or trust the notebook. <br />On GitHub, the HTML representation is unable to render, please try loading this page with nbviewer.org.</b></div><div class=\"sk-container\" hidden><div class=\"sk-item sk-dashed-wrapped\"><div class=\"sk-label-container\"><div class=\"sk-label sk-toggleable\"><input class=\"sk-toggleable__control sk-hidden--visually\" id=\"sk-estimator-id-15\" type=\"checkbox\" ><label for=\"sk-estimator-id-15\" class=\"sk-toggleable__label sk-toggleable__label-arrow\">GridSearchCV</label><div class=\"sk-toggleable__content\"><pre>GridSearchCV(cv=5,\n",
       "             estimator=DecisionTreeClassifier(criterion=&#x27;entropy&#x27;,\n",
       "                                              random_state=42),\n",
       "             param_grid={&#x27;ccp_alpha&#x27;: [0.001, 0.002, 0.003, 0.004],\n",
       "                         &#x27;max_depth&#x27;: [None, 10, 20, 30],\n",
       "                         &#x27;min_samples_leaf&#x27;: [1, 2, 4],\n",
       "                         &#x27;min_samples_split&#x27;: [2, 5, 10]},\n",
       "             scoring=&#x27;accuracy&#x27;)</pre></div></div></div><div class=\"sk-parallel\"><div class=\"sk-parallel-item\"><div class=\"sk-item\"><div class=\"sk-label-container\"><div class=\"sk-label sk-toggleable\"><input class=\"sk-toggleable__control sk-hidden--visually\" id=\"sk-estimator-id-16\" type=\"checkbox\" ><label for=\"sk-estimator-id-16\" class=\"sk-toggleable__label sk-toggleable__label-arrow\">estimator: DecisionTreeClassifier</label><div class=\"sk-toggleable__content\"><pre>DecisionTreeClassifier(criterion=&#x27;entropy&#x27;, random_state=42)</pre></div></div></div><div class=\"sk-serial\"><div class=\"sk-item\"><div class=\"sk-estimator sk-toggleable\"><input class=\"sk-toggleable__control sk-hidden--visually\" id=\"sk-estimator-id-17\" type=\"checkbox\" ><label for=\"sk-estimator-id-17\" class=\"sk-toggleable__label sk-toggleable__label-arrow\">DecisionTreeClassifier</label><div class=\"sk-toggleable__content\"><pre>DecisionTreeClassifier(criterion=&#x27;entropy&#x27;, random_state=42)</pre></div></div></div></div></div></div></div></div></div></div>"
      ],
      "text/plain": [
       "GridSearchCV(cv=5,\n",
       "             estimator=DecisionTreeClassifier(criterion='entropy',\n",
       "                                              random_state=42),\n",
       "             param_grid={'ccp_alpha': [0.001, 0.002, 0.003, 0.004],\n",
       "                         'max_depth': [None, 10, 20, 30],\n",
       "                         'min_samples_leaf': [1, 2, 4],\n",
       "                         'min_samples_split': [2, 5, 10]},\n",
       "             scoring='accuracy')"
      ]
     },
     "execution_count": 36,
     "metadata": {},
     "output_type": "execute_result"
    }
   ],
   "source": [
    "# Decision Tree GridSearchCV\n",
    "dt2_grid_search = GridSearchCV(dt_classifier, param_grid_dt, cv=5, scoring='accuracy')\n",
    "dt2_grid_search.fit(X_train, y_train)"
   ]
  },
  {
   "cell_type": "code",
   "execution_count": 37,
   "metadata": {},
   "outputs": [
    {
     "data": {
      "text/html": [
       "<style>#sk-container-id-6 {color: black;}#sk-container-id-6 pre{padding: 0;}#sk-container-id-6 div.sk-toggleable {background-color: white;}#sk-container-id-6 label.sk-toggleable__label {cursor: pointer;display: block;width: 100%;margin-bottom: 0;padding: 0.3em;box-sizing: border-box;text-align: center;}#sk-container-id-6 label.sk-toggleable__label-arrow:before {content: \"▸\";float: left;margin-right: 0.25em;color: #696969;}#sk-container-id-6 label.sk-toggleable__label-arrow:hover:before {color: black;}#sk-container-id-6 div.sk-estimator:hover label.sk-toggleable__label-arrow:before {color: black;}#sk-container-id-6 div.sk-toggleable__content {max-height: 0;max-width: 0;overflow: hidden;text-align: left;background-color: #f0f8ff;}#sk-container-id-6 div.sk-toggleable__content pre {margin: 0.2em;color: black;border-radius: 0.25em;background-color: #f0f8ff;}#sk-container-id-6 input.sk-toggleable__control:checked~div.sk-toggleable__content {max-height: 200px;max-width: 100%;overflow: auto;}#sk-container-id-6 input.sk-toggleable__control:checked~label.sk-toggleable__label-arrow:before {content: \"▾\";}#sk-container-id-6 div.sk-estimator input.sk-toggleable__control:checked~label.sk-toggleable__label {background-color: #d4ebff;}#sk-container-id-6 div.sk-label input.sk-toggleable__control:checked~label.sk-toggleable__label {background-color: #d4ebff;}#sk-container-id-6 input.sk-hidden--visually {border: 0;clip: rect(1px 1px 1px 1px);clip: rect(1px, 1px, 1px, 1px);height: 1px;margin: -1px;overflow: hidden;padding: 0;position: absolute;width: 1px;}#sk-container-id-6 div.sk-estimator {font-family: monospace;background-color: #f0f8ff;border: 1px dotted black;border-radius: 0.25em;box-sizing: border-box;margin-bottom: 0.5em;}#sk-container-id-6 div.sk-estimator:hover {background-color: #d4ebff;}#sk-container-id-6 div.sk-parallel-item::after {content: \"\";width: 100%;border-bottom: 1px solid gray;flex-grow: 1;}#sk-container-id-6 div.sk-label:hover label.sk-toggleable__label {background-color: #d4ebff;}#sk-container-id-6 div.sk-serial::before {content: \"\";position: absolute;border-left: 1px solid gray;box-sizing: border-box;top: 0;bottom: 0;left: 50%;z-index: 0;}#sk-container-id-6 div.sk-serial {display: flex;flex-direction: column;align-items: center;background-color: white;padding-right: 0.2em;padding-left: 0.2em;position: relative;}#sk-container-id-6 div.sk-item {position: relative;z-index: 1;}#sk-container-id-6 div.sk-parallel {display: flex;align-items: stretch;justify-content: center;background-color: white;position: relative;}#sk-container-id-6 div.sk-item::before, #sk-container-id-6 div.sk-parallel-item::before {content: \"\";position: absolute;border-left: 1px solid gray;box-sizing: border-box;top: 0;bottom: 0;left: 50%;z-index: -1;}#sk-container-id-6 div.sk-parallel-item {display: flex;flex-direction: column;z-index: 1;position: relative;background-color: white;}#sk-container-id-6 div.sk-parallel-item:first-child::after {align-self: flex-end;width: 50%;}#sk-container-id-6 div.sk-parallel-item:last-child::after {align-self: flex-start;width: 50%;}#sk-container-id-6 div.sk-parallel-item:only-child::after {width: 0;}#sk-container-id-6 div.sk-dashed-wrapped {border: 1px dashed gray;margin: 0 0.4em 0.5em 0.4em;box-sizing: border-box;padding-bottom: 0.4em;background-color: white;}#sk-container-id-6 div.sk-label label {font-family: monospace;font-weight: bold;display: inline-block;line-height: 1.2em;}#sk-container-id-6 div.sk-label-container {text-align: center;}#sk-container-id-6 div.sk-container {/* jupyter's `normalize.less` sets `[hidden] { display: none; }` but bootstrap.min.css set `[hidden] { display: none !important; }` so we also need the `!important` here to be able to override the default hidden behavior on the sphinx rendered scikit-learn.org. See: https://github.com/scikit-learn/scikit-learn/issues/21755 */display: inline-block !important;position: relative;}#sk-container-id-6 div.sk-text-repr-fallback {display: none;}</style><div id=\"sk-container-id-6\" class=\"sk-top-container\"><div class=\"sk-text-repr-fallback\"><pre>GridSearchCV(cv=5,\n",
       "             estimator=AdaBoostClassifier(estimator=DecisionTreeClassifier(criterion=&#x27;entropy&#x27;,\n",
       "                                                                           random_state=42),\n",
       "                                          random_state=42),\n",
       "             param_grid={&#x27;learning_rate&#x27;: [0.01, 0.1, 0.5, 1.0],\n",
       "                         &#x27;n_estimators&#x27;: [50, 100, 200]},\n",
       "             scoring=&#x27;accuracy&#x27;)</pre><b>In a Jupyter environment, please rerun this cell to show the HTML representation or trust the notebook. <br />On GitHub, the HTML representation is unable to render, please try loading this page with nbviewer.org.</b></div><div class=\"sk-container\" hidden><div class=\"sk-item sk-dashed-wrapped\"><div class=\"sk-label-container\"><div class=\"sk-label sk-toggleable\"><input class=\"sk-toggleable__control sk-hidden--visually\" id=\"sk-estimator-id-18\" type=\"checkbox\" ><label for=\"sk-estimator-id-18\" class=\"sk-toggleable__label sk-toggleable__label-arrow\">GridSearchCV</label><div class=\"sk-toggleable__content\"><pre>GridSearchCV(cv=5,\n",
       "             estimator=AdaBoostClassifier(estimator=DecisionTreeClassifier(criterion=&#x27;entropy&#x27;,\n",
       "                                                                           random_state=42),\n",
       "                                          random_state=42),\n",
       "             param_grid={&#x27;learning_rate&#x27;: [0.01, 0.1, 0.5, 1.0],\n",
       "                         &#x27;n_estimators&#x27;: [50, 100, 200]},\n",
       "             scoring=&#x27;accuracy&#x27;)</pre></div></div></div><div class=\"sk-parallel\"><div class=\"sk-parallel-item\"><div class=\"sk-item\"><div class=\"sk-label-container\"><div class=\"sk-label sk-toggleable\"><input class=\"sk-toggleable__control sk-hidden--visually\" id=\"sk-estimator-id-19\" type=\"checkbox\" ><label for=\"sk-estimator-id-19\" class=\"sk-toggleable__label sk-toggleable__label-arrow\">estimator: AdaBoostClassifier</label><div class=\"sk-toggleable__content\"><pre>AdaBoostClassifier(estimator=DecisionTreeClassifier(criterion=&#x27;entropy&#x27;,\n",
       "                                                    random_state=42),\n",
       "                   random_state=42)</pre></div></div></div><div class=\"sk-serial\"><div class=\"sk-item sk-dashed-wrapped\"><div class=\"sk-parallel\"><div class=\"sk-parallel-item\"><div class=\"sk-item\"><div class=\"sk-label-container\"><div class=\"sk-label sk-toggleable\"><input class=\"sk-toggleable__control sk-hidden--visually\" id=\"sk-estimator-id-20\" type=\"checkbox\" ><label for=\"sk-estimator-id-20\" class=\"sk-toggleable__label sk-toggleable__label-arrow\">estimator: DecisionTreeClassifier</label><div class=\"sk-toggleable__content\"><pre>DecisionTreeClassifier(criterion=&#x27;entropy&#x27;, random_state=42)</pre></div></div></div><div class=\"sk-serial\"><div class=\"sk-item\"><div class=\"sk-estimator sk-toggleable\"><input class=\"sk-toggleable__control sk-hidden--visually\" id=\"sk-estimator-id-21\" type=\"checkbox\" ><label for=\"sk-estimator-id-21\" class=\"sk-toggleable__label sk-toggleable__label-arrow\">DecisionTreeClassifier</label><div class=\"sk-toggleable__content\"><pre>DecisionTreeClassifier(criterion=&#x27;entropy&#x27;, random_state=42)</pre></div></div></div></div></div></div></div></div></div></div></div></div></div></div></div>"
      ],
      "text/plain": [
       "GridSearchCV(cv=5,\n",
       "             estimator=AdaBoostClassifier(estimator=DecisionTreeClassifier(criterion='entropy',\n",
       "                                                                           random_state=42),\n",
       "                                          random_state=42),\n",
       "             param_grid={'learning_rate': [0.01, 0.1, 0.5, 1.0],\n",
       "                         'n_estimators': [50, 100, 200]},\n",
       "             scoring='accuracy')"
      ]
     },
     "execution_count": 37,
     "metadata": {},
     "output_type": "execute_result"
    }
   ],
   "source": [
    "# AdaBoost GridSearchCV\n",
    "adaboost_grid_search = GridSearchCV(adaboost_classifier, param_grid_adaboost, cv=5, scoring='accuracy')\n",
    "adaboost_grid_search.fit(X_train, y_train)"
   ]
  },
  {
   "cell_type": "markdown",
   "metadata": {},
   "source": [
    "### Model Terbaik"
   ]
  },
  {
   "cell_type": "code",
   "execution_count": 38,
   "metadata": {},
   "outputs": [],
   "source": [
    "# Ambil model terbaik dari hasil GridSearchCV\n",
    "best_dt2_model = dt2_grid_search.best_estimator_\n",
    "best_adaboost_model = adaboost_grid_search.best_estimator_\n",
    "\n",
    "# Prediksi menggunakan model terbaik\n",
    "dt2_predictions = best_dt2_model.predict(X_test)\n",
    "adaboost_predictions = best_adaboost_model.predict(X_test)"
   ]
  },
  {
   "cell_type": "markdown",
   "metadata": {},
   "source": [
    "### Evaluasi Model"
   ]
  },
  {
   "cell_type": "code",
   "execution_count": 39,
   "metadata": {},
   "outputs": [],
   "source": [
    "# Evaluasi akurasi\n",
    "dt2_accuracy = accuracy_score(y_test, dt2_predictions)\n",
    "adaboost_accuracy = accuracy_score(y_test, adaboost_predictions)"
   ]
  },
  {
   "cell_type": "code",
   "execution_count": 40,
   "metadata": {},
   "outputs": [
    {
     "name": "stdout",
     "output_type": "stream",
     "text": [
      "Decision Tree GridSearchCV Results:\n",
      "Best Parameters:  {'ccp_alpha': 0.001, 'max_depth': None, 'min_samples_leaf': 2, 'min_samples_split': 2}\n",
      "Best Cross-validated Accuracy: 100.00%\n",
      "\n",
      "All Results:\n",
      "Mean Accuracy: 99.96% | Parameters: {'ccp_alpha': 0.001, 'max_depth': None, 'min_samples_leaf': 1, 'min_samples_split': 2}\n",
      "Mean Accuracy: 99.96% | Parameters: {'ccp_alpha': 0.001, 'max_depth': None, 'min_samples_leaf': 1, 'min_samples_split': 5}\n",
      "Mean Accuracy: 99.96% | Parameters: {'ccp_alpha': 0.001, 'max_depth': None, 'min_samples_leaf': 1, 'min_samples_split': 10}\n",
      "Mean Accuracy: 100.00% | Parameters: {'ccp_alpha': 0.001, 'max_depth': None, 'min_samples_leaf': 2, 'min_samples_split': 2}\n",
      "Mean Accuracy: 100.00% | Parameters: {'ccp_alpha': 0.001, 'max_depth': None, 'min_samples_leaf': 2, 'min_samples_split': 5}\n",
      "Mean Accuracy: 100.00% | Parameters: {'ccp_alpha': 0.001, 'max_depth': None, 'min_samples_leaf': 2, 'min_samples_split': 10}\n",
      "Mean Accuracy: 99.91% | Parameters: {'ccp_alpha': 0.001, 'max_depth': None, 'min_samples_leaf': 4, 'min_samples_split': 2}\n",
      "Mean Accuracy: 99.91% | Parameters: {'ccp_alpha': 0.001, 'max_depth': None, 'min_samples_leaf': 4, 'min_samples_split': 5}\n",
      "Mean Accuracy: 99.91% | Parameters: {'ccp_alpha': 0.001, 'max_depth': None, 'min_samples_leaf': 4, 'min_samples_split': 10}\n",
      "Mean Accuracy: 99.96% | Parameters: {'ccp_alpha': 0.001, 'max_depth': 10, 'min_samples_leaf': 1, 'min_samples_split': 2}\n",
      "Mean Accuracy: 99.96% | Parameters: {'ccp_alpha': 0.001, 'max_depth': 10, 'min_samples_leaf': 1, 'min_samples_split': 5}\n",
      "Mean Accuracy: 99.96% | Parameters: {'ccp_alpha': 0.001, 'max_depth': 10, 'min_samples_leaf': 1, 'min_samples_split': 10}\n",
      "Mean Accuracy: 100.00% | Parameters: {'ccp_alpha': 0.001, 'max_depth': 10, 'min_samples_leaf': 2, 'min_samples_split': 2}\n",
      "Mean Accuracy: 100.00% | Parameters: {'ccp_alpha': 0.001, 'max_depth': 10, 'min_samples_leaf': 2, 'min_samples_split': 5}\n",
      "Mean Accuracy: 100.00% | Parameters: {'ccp_alpha': 0.001, 'max_depth': 10, 'min_samples_leaf': 2, 'min_samples_split': 10}\n",
      "Mean Accuracy: 99.91% | Parameters: {'ccp_alpha': 0.001, 'max_depth': 10, 'min_samples_leaf': 4, 'min_samples_split': 2}\n",
      "Mean Accuracy: 99.91% | Parameters: {'ccp_alpha': 0.001, 'max_depth': 10, 'min_samples_leaf': 4, 'min_samples_split': 5}\n",
      "Mean Accuracy: 99.91% | Parameters: {'ccp_alpha': 0.001, 'max_depth': 10, 'min_samples_leaf': 4, 'min_samples_split': 10}\n",
      "Mean Accuracy: 99.96% | Parameters: {'ccp_alpha': 0.001, 'max_depth': 20, 'min_samples_leaf': 1, 'min_samples_split': 2}\n",
      "Mean Accuracy: 99.96% | Parameters: {'ccp_alpha': 0.001, 'max_depth': 20, 'min_samples_leaf': 1, 'min_samples_split': 5}\n",
      "Mean Accuracy: 99.96% | Parameters: {'ccp_alpha': 0.001, 'max_depth': 20, 'min_samples_leaf': 1, 'min_samples_split': 10}\n",
      "Mean Accuracy: 100.00% | Parameters: {'ccp_alpha': 0.001, 'max_depth': 20, 'min_samples_leaf': 2, 'min_samples_split': 2}\n",
      "Mean Accuracy: 100.00% | Parameters: {'ccp_alpha': 0.001, 'max_depth': 20, 'min_samples_leaf': 2, 'min_samples_split': 5}\n",
      "Mean Accuracy: 100.00% | Parameters: {'ccp_alpha': 0.001, 'max_depth': 20, 'min_samples_leaf': 2, 'min_samples_split': 10}\n",
      "Mean Accuracy: 99.91% | Parameters: {'ccp_alpha': 0.001, 'max_depth': 20, 'min_samples_leaf': 4, 'min_samples_split': 2}\n",
      "Mean Accuracy: 99.91% | Parameters: {'ccp_alpha': 0.001, 'max_depth': 20, 'min_samples_leaf': 4, 'min_samples_split': 5}\n",
      "Mean Accuracy: 99.91% | Parameters: {'ccp_alpha': 0.001, 'max_depth': 20, 'min_samples_leaf': 4, 'min_samples_split': 10}\n",
      "Mean Accuracy: 99.96% | Parameters: {'ccp_alpha': 0.001, 'max_depth': 30, 'min_samples_leaf': 1, 'min_samples_split': 2}\n",
      "Mean Accuracy: 99.96% | Parameters: {'ccp_alpha': 0.001, 'max_depth': 30, 'min_samples_leaf': 1, 'min_samples_split': 5}\n",
      "Mean Accuracy: 99.96% | Parameters: {'ccp_alpha': 0.001, 'max_depth': 30, 'min_samples_leaf': 1, 'min_samples_split': 10}\n",
      "Mean Accuracy: 100.00% | Parameters: {'ccp_alpha': 0.001, 'max_depth': 30, 'min_samples_leaf': 2, 'min_samples_split': 2}\n",
      "Mean Accuracy: 100.00% | Parameters: {'ccp_alpha': 0.001, 'max_depth': 30, 'min_samples_leaf': 2, 'min_samples_split': 5}\n",
      "Mean Accuracy: 100.00% | Parameters: {'ccp_alpha': 0.001, 'max_depth': 30, 'min_samples_leaf': 2, 'min_samples_split': 10}\n",
      "Mean Accuracy: 99.91% | Parameters: {'ccp_alpha': 0.001, 'max_depth': 30, 'min_samples_leaf': 4, 'min_samples_split': 2}\n",
      "Mean Accuracy: 99.91% | Parameters: {'ccp_alpha': 0.001, 'max_depth': 30, 'min_samples_leaf': 4, 'min_samples_split': 5}\n",
      "Mean Accuracy: 99.91% | Parameters: {'ccp_alpha': 0.001, 'max_depth': 30, 'min_samples_leaf': 4, 'min_samples_split': 10}\n",
      "Mean Accuracy: 99.96% | Parameters: {'ccp_alpha': 0.002, 'max_depth': None, 'min_samples_leaf': 1, 'min_samples_split': 2}\n",
      "Mean Accuracy: 99.96% | Parameters: {'ccp_alpha': 0.002, 'max_depth': None, 'min_samples_leaf': 1, 'min_samples_split': 5}\n",
      "Mean Accuracy: 99.96% | Parameters: {'ccp_alpha': 0.002, 'max_depth': None, 'min_samples_leaf': 1, 'min_samples_split': 10}\n",
      "Mean Accuracy: 100.00% | Parameters: {'ccp_alpha': 0.002, 'max_depth': None, 'min_samples_leaf': 2, 'min_samples_split': 2}\n",
      "Mean Accuracy: 100.00% | Parameters: {'ccp_alpha': 0.002, 'max_depth': None, 'min_samples_leaf': 2, 'min_samples_split': 5}\n",
      "Mean Accuracy: 100.00% | Parameters: {'ccp_alpha': 0.002, 'max_depth': None, 'min_samples_leaf': 2, 'min_samples_split': 10}\n",
      "Mean Accuracy: 99.91% | Parameters: {'ccp_alpha': 0.002, 'max_depth': None, 'min_samples_leaf': 4, 'min_samples_split': 2}\n",
      "Mean Accuracy: 99.91% | Parameters: {'ccp_alpha': 0.002, 'max_depth': None, 'min_samples_leaf': 4, 'min_samples_split': 5}\n",
      "Mean Accuracy: 99.91% | Parameters: {'ccp_alpha': 0.002, 'max_depth': None, 'min_samples_leaf': 4, 'min_samples_split': 10}\n",
      "Mean Accuracy: 99.96% | Parameters: {'ccp_alpha': 0.002, 'max_depth': 10, 'min_samples_leaf': 1, 'min_samples_split': 2}\n",
      "Mean Accuracy: 99.96% | Parameters: {'ccp_alpha': 0.002, 'max_depth': 10, 'min_samples_leaf': 1, 'min_samples_split': 5}\n",
      "Mean Accuracy: 99.96% | Parameters: {'ccp_alpha': 0.002, 'max_depth': 10, 'min_samples_leaf': 1, 'min_samples_split': 10}\n",
      "Mean Accuracy: 100.00% | Parameters: {'ccp_alpha': 0.002, 'max_depth': 10, 'min_samples_leaf': 2, 'min_samples_split': 2}\n",
      "Mean Accuracy: 100.00% | Parameters: {'ccp_alpha': 0.002, 'max_depth': 10, 'min_samples_leaf': 2, 'min_samples_split': 5}\n",
      "Mean Accuracy: 100.00% | Parameters: {'ccp_alpha': 0.002, 'max_depth': 10, 'min_samples_leaf': 2, 'min_samples_split': 10}\n",
      "Mean Accuracy: 99.91% | Parameters: {'ccp_alpha': 0.002, 'max_depth': 10, 'min_samples_leaf': 4, 'min_samples_split': 2}\n",
      "Mean Accuracy: 99.91% | Parameters: {'ccp_alpha': 0.002, 'max_depth': 10, 'min_samples_leaf': 4, 'min_samples_split': 5}\n",
      "Mean Accuracy: 99.91% | Parameters: {'ccp_alpha': 0.002, 'max_depth': 10, 'min_samples_leaf': 4, 'min_samples_split': 10}\n",
      "Mean Accuracy: 99.96% | Parameters: {'ccp_alpha': 0.002, 'max_depth': 20, 'min_samples_leaf': 1, 'min_samples_split': 2}\n",
      "Mean Accuracy: 99.96% | Parameters: {'ccp_alpha': 0.002, 'max_depth': 20, 'min_samples_leaf': 1, 'min_samples_split': 5}\n",
      "Mean Accuracy: 99.96% | Parameters: {'ccp_alpha': 0.002, 'max_depth': 20, 'min_samples_leaf': 1, 'min_samples_split': 10}\n",
      "Mean Accuracy: 100.00% | Parameters: {'ccp_alpha': 0.002, 'max_depth': 20, 'min_samples_leaf': 2, 'min_samples_split': 2}\n",
      "Mean Accuracy: 100.00% | Parameters: {'ccp_alpha': 0.002, 'max_depth': 20, 'min_samples_leaf': 2, 'min_samples_split': 5}\n",
      "Mean Accuracy: 100.00% | Parameters: {'ccp_alpha': 0.002, 'max_depth': 20, 'min_samples_leaf': 2, 'min_samples_split': 10}\n",
      "Mean Accuracy: 99.91% | Parameters: {'ccp_alpha': 0.002, 'max_depth': 20, 'min_samples_leaf': 4, 'min_samples_split': 2}\n",
      "Mean Accuracy: 99.91% | Parameters: {'ccp_alpha': 0.002, 'max_depth': 20, 'min_samples_leaf': 4, 'min_samples_split': 5}\n",
      "Mean Accuracy: 99.91% | Parameters: {'ccp_alpha': 0.002, 'max_depth': 20, 'min_samples_leaf': 4, 'min_samples_split': 10}\n",
      "Mean Accuracy: 99.96% | Parameters: {'ccp_alpha': 0.002, 'max_depth': 30, 'min_samples_leaf': 1, 'min_samples_split': 2}\n",
      "Mean Accuracy: 99.96% | Parameters: {'ccp_alpha': 0.002, 'max_depth': 30, 'min_samples_leaf': 1, 'min_samples_split': 5}\n",
      "Mean Accuracy: 99.96% | Parameters: {'ccp_alpha': 0.002, 'max_depth': 30, 'min_samples_leaf': 1, 'min_samples_split': 10}\n",
      "Mean Accuracy: 100.00% | Parameters: {'ccp_alpha': 0.002, 'max_depth': 30, 'min_samples_leaf': 2, 'min_samples_split': 2}\n",
      "Mean Accuracy: 100.00% | Parameters: {'ccp_alpha': 0.002, 'max_depth': 30, 'min_samples_leaf': 2, 'min_samples_split': 5}\n",
      "Mean Accuracy: 100.00% | Parameters: {'ccp_alpha': 0.002, 'max_depth': 30, 'min_samples_leaf': 2, 'min_samples_split': 10}\n",
      "Mean Accuracy: 99.91% | Parameters: {'ccp_alpha': 0.002, 'max_depth': 30, 'min_samples_leaf': 4, 'min_samples_split': 2}\n",
      "Mean Accuracy: 99.91% | Parameters: {'ccp_alpha': 0.002, 'max_depth': 30, 'min_samples_leaf': 4, 'min_samples_split': 5}\n",
      "Mean Accuracy: 99.91% | Parameters: {'ccp_alpha': 0.002, 'max_depth': 30, 'min_samples_leaf': 4, 'min_samples_split': 10}\n",
      "Mean Accuracy: 99.95% | Parameters: {'ccp_alpha': 0.003, 'max_depth': None, 'min_samples_leaf': 1, 'min_samples_split': 2}\n",
      "Mean Accuracy: 99.95% | Parameters: {'ccp_alpha': 0.003, 'max_depth': None, 'min_samples_leaf': 1, 'min_samples_split': 5}\n",
      "Mean Accuracy: 99.95% | Parameters: {'ccp_alpha': 0.003, 'max_depth': None, 'min_samples_leaf': 1, 'min_samples_split': 10}\n",
      "Mean Accuracy: 99.95% | Parameters: {'ccp_alpha': 0.003, 'max_depth': None, 'min_samples_leaf': 2, 'min_samples_split': 2}\n",
      "Mean Accuracy: 99.95% | Parameters: {'ccp_alpha': 0.003, 'max_depth': None, 'min_samples_leaf': 2, 'min_samples_split': 5}\n",
      "Mean Accuracy: 99.95% | Parameters: {'ccp_alpha': 0.003, 'max_depth': None, 'min_samples_leaf': 2, 'min_samples_split': 10}\n",
      "Mean Accuracy: 99.91% | Parameters: {'ccp_alpha': 0.003, 'max_depth': None, 'min_samples_leaf': 4, 'min_samples_split': 2}\n",
      "Mean Accuracy: 99.91% | Parameters: {'ccp_alpha': 0.003, 'max_depth': None, 'min_samples_leaf': 4, 'min_samples_split': 5}\n",
      "Mean Accuracy: 99.91% | Parameters: {'ccp_alpha': 0.003, 'max_depth': None, 'min_samples_leaf': 4, 'min_samples_split': 10}\n",
      "Mean Accuracy: 99.95% | Parameters: {'ccp_alpha': 0.003, 'max_depth': 10, 'min_samples_leaf': 1, 'min_samples_split': 2}\n",
      "Mean Accuracy: 99.95% | Parameters: {'ccp_alpha': 0.003, 'max_depth': 10, 'min_samples_leaf': 1, 'min_samples_split': 5}\n",
      "Mean Accuracy: 99.95% | Parameters: {'ccp_alpha': 0.003, 'max_depth': 10, 'min_samples_leaf': 1, 'min_samples_split': 10}\n",
      "Mean Accuracy: 99.95% | Parameters: {'ccp_alpha': 0.003, 'max_depth': 10, 'min_samples_leaf': 2, 'min_samples_split': 2}\n",
      "Mean Accuracy: 99.95% | Parameters: {'ccp_alpha': 0.003, 'max_depth': 10, 'min_samples_leaf': 2, 'min_samples_split': 5}\n",
      "Mean Accuracy: 99.95% | Parameters: {'ccp_alpha': 0.003, 'max_depth': 10, 'min_samples_leaf': 2, 'min_samples_split': 10}\n",
      "Mean Accuracy: 99.91% | Parameters: {'ccp_alpha': 0.003, 'max_depth': 10, 'min_samples_leaf': 4, 'min_samples_split': 2}\n",
      "Mean Accuracy: 99.91% | Parameters: {'ccp_alpha': 0.003, 'max_depth': 10, 'min_samples_leaf': 4, 'min_samples_split': 5}\n",
      "Mean Accuracy: 99.91% | Parameters: {'ccp_alpha': 0.003, 'max_depth': 10, 'min_samples_leaf': 4, 'min_samples_split': 10}\n",
      "Mean Accuracy: 99.95% | Parameters: {'ccp_alpha': 0.003, 'max_depth': 20, 'min_samples_leaf': 1, 'min_samples_split': 2}\n",
      "Mean Accuracy: 99.95% | Parameters: {'ccp_alpha': 0.003, 'max_depth': 20, 'min_samples_leaf': 1, 'min_samples_split': 5}\n",
      "Mean Accuracy: 99.95% | Parameters: {'ccp_alpha': 0.003, 'max_depth': 20, 'min_samples_leaf': 1, 'min_samples_split': 10}\n",
      "Mean Accuracy: 99.95% | Parameters: {'ccp_alpha': 0.003, 'max_depth': 20, 'min_samples_leaf': 2, 'min_samples_split': 2}\n",
      "Mean Accuracy: 99.95% | Parameters: {'ccp_alpha': 0.003, 'max_depth': 20, 'min_samples_leaf': 2, 'min_samples_split': 5}\n",
      "Mean Accuracy: 99.95% | Parameters: {'ccp_alpha': 0.003, 'max_depth': 20, 'min_samples_leaf': 2, 'min_samples_split': 10}\n",
      "Mean Accuracy: 99.91% | Parameters: {'ccp_alpha': 0.003, 'max_depth': 20, 'min_samples_leaf': 4, 'min_samples_split': 2}\n",
      "Mean Accuracy: 99.91% | Parameters: {'ccp_alpha': 0.003, 'max_depth': 20, 'min_samples_leaf': 4, 'min_samples_split': 5}\n",
      "Mean Accuracy: 99.91% | Parameters: {'ccp_alpha': 0.003, 'max_depth': 20, 'min_samples_leaf': 4, 'min_samples_split': 10}\n",
      "Mean Accuracy: 99.95% | Parameters: {'ccp_alpha': 0.003, 'max_depth': 30, 'min_samples_leaf': 1, 'min_samples_split': 2}\n",
      "Mean Accuracy: 99.95% | Parameters: {'ccp_alpha': 0.003, 'max_depth': 30, 'min_samples_leaf': 1, 'min_samples_split': 5}\n",
      "Mean Accuracy: 99.95% | Parameters: {'ccp_alpha': 0.003, 'max_depth': 30, 'min_samples_leaf': 1, 'min_samples_split': 10}\n",
      "Mean Accuracy: 99.95% | Parameters: {'ccp_alpha': 0.003, 'max_depth': 30, 'min_samples_leaf': 2, 'min_samples_split': 2}\n",
      "Mean Accuracy: 99.95% | Parameters: {'ccp_alpha': 0.003, 'max_depth': 30, 'min_samples_leaf': 2, 'min_samples_split': 5}\n",
      "Mean Accuracy: 99.95% | Parameters: {'ccp_alpha': 0.003, 'max_depth': 30, 'min_samples_leaf': 2, 'min_samples_split': 10}\n",
      "Mean Accuracy: 99.91% | Parameters: {'ccp_alpha': 0.003, 'max_depth': 30, 'min_samples_leaf': 4, 'min_samples_split': 2}\n",
      "Mean Accuracy: 99.91% | Parameters: {'ccp_alpha': 0.003, 'max_depth': 30, 'min_samples_leaf': 4, 'min_samples_split': 5}\n",
      "Mean Accuracy: 99.91% | Parameters: {'ccp_alpha': 0.003, 'max_depth': 30, 'min_samples_leaf': 4, 'min_samples_split': 10}\n",
      "Mean Accuracy: 99.91% | Parameters: {'ccp_alpha': 0.004, 'max_depth': None, 'min_samples_leaf': 1, 'min_samples_split': 2}\n",
      "Mean Accuracy: 99.91% | Parameters: {'ccp_alpha': 0.004, 'max_depth': None, 'min_samples_leaf': 1, 'min_samples_split': 5}\n",
      "Mean Accuracy: 99.91% | Parameters: {'ccp_alpha': 0.004, 'max_depth': None, 'min_samples_leaf': 1, 'min_samples_split': 10}\n",
      "Mean Accuracy: 99.91% | Parameters: {'ccp_alpha': 0.004, 'max_depth': None, 'min_samples_leaf': 2, 'min_samples_split': 2}\n",
      "Mean Accuracy: 99.91% | Parameters: {'ccp_alpha': 0.004, 'max_depth': None, 'min_samples_leaf': 2, 'min_samples_split': 5}\n",
      "Mean Accuracy: 99.91% | Parameters: {'ccp_alpha': 0.004, 'max_depth': None, 'min_samples_leaf': 2, 'min_samples_split': 10}\n",
      "Mean Accuracy: 99.91% | Parameters: {'ccp_alpha': 0.004, 'max_depth': None, 'min_samples_leaf': 4, 'min_samples_split': 2}\n",
      "Mean Accuracy: 99.91% | Parameters: {'ccp_alpha': 0.004, 'max_depth': None, 'min_samples_leaf': 4, 'min_samples_split': 5}\n",
      "Mean Accuracy: 99.91% | Parameters: {'ccp_alpha': 0.004, 'max_depth': None, 'min_samples_leaf': 4, 'min_samples_split': 10}\n",
      "Mean Accuracy: 99.91% | Parameters: {'ccp_alpha': 0.004, 'max_depth': 10, 'min_samples_leaf': 1, 'min_samples_split': 2}\n",
      "Mean Accuracy: 99.91% | Parameters: {'ccp_alpha': 0.004, 'max_depth': 10, 'min_samples_leaf': 1, 'min_samples_split': 5}\n",
      "Mean Accuracy: 99.91% | Parameters: {'ccp_alpha': 0.004, 'max_depth': 10, 'min_samples_leaf': 1, 'min_samples_split': 10}\n",
      "Mean Accuracy: 99.91% | Parameters: {'ccp_alpha': 0.004, 'max_depth': 10, 'min_samples_leaf': 2, 'min_samples_split': 2}\n",
      "Mean Accuracy: 99.91% | Parameters: {'ccp_alpha': 0.004, 'max_depth': 10, 'min_samples_leaf': 2, 'min_samples_split': 5}\n",
      "Mean Accuracy: 99.91% | Parameters: {'ccp_alpha': 0.004, 'max_depth': 10, 'min_samples_leaf': 2, 'min_samples_split': 10}\n",
      "Mean Accuracy: 99.91% | Parameters: {'ccp_alpha': 0.004, 'max_depth': 10, 'min_samples_leaf': 4, 'min_samples_split': 2}\n",
      "Mean Accuracy: 99.91% | Parameters: {'ccp_alpha': 0.004, 'max_depth': 10, 'min_samples_leaf': 4, 'min_samples_split': 5}\n",
      "Mean Accuracy: 99.91% | Parameters: {'ccp_alpha': 0.004, 'max_depth': 10, 'min_samples_leaf': 4, 'min_samples_split': 10}\n",
      "Mean Accuracy: 99.91% | Parameters: {'ccp_alpha': 0.004, 'max_depth': 20, 'min_samples_leaf': 1, 'min_samples_split': 2}\n",
      "Mean Accuracy: 99.91% | Parameters: {'ccp_alpha': 0.004, 'max_depth': 20, 'min_samples_leaf': 1, 'min_samples_split': 5}\n",
      "Mean Accuracy: 99.91% | Parameters: {'ccp_alpha': 0.004, 'max_depth': 20, 'min_samples_leaf': 1, 'min_samples_split': 10}\n",
      "Mean Accuracy: 99.91% | Parameters: {'ccp_alpha': 0.004, 'max_depth': 20, 'min_samples_leaf': 2, 'min_samples_split': 2}\n",
      "Mean Accuracy: 99.91% | Parameters: {'ccp_alpha': 0.004, 'max_depth': 20, 'min_samples_leaf': 2, 'min_samples_split': 5}\n",
      "Mean Accuracy: 99.91% | Parameters: {'ccp_alpha': 0.004, 'max_depth': 20, 'min_samples_leaf': 2, 'min_samples_split': 10}\n",
      "Mean Accuracy: 99.91% | Parameters: {'ccp_alpha': 0.004, 'max_depth': 20, 'min_samples_leaf': 4, 'min_samples_split': 2}\n",
      "Mean Accuracy: 99.91% | Parameters: {'ccp_alpha': 0.004, 'max_depth': 20, 'min_samples_leaf': 4, 'min_samples_split': 5}\n",
      "Mean Accuracy: 99.91% | Parameters: {'ccp_alpha': 0.004, 'max_depth': 20, 'min_samples_leaf': 4, 'min_samples_split': 10}\n",
      "Mean Accuracy: 99.91% | Parameters: {'ccp_alpha': 0.004, 'max_depth': 30, 'min_samples_leaf': 1, 'min_samples_split': 2}\n",
      "Mean Accuracy: 99.91% | Parameters: {'ccp_alpha': 0.004, 'max_depth': 30, 'min_samples_leaf': 1, 'min_samples_split': 5}\n",
      "Mean Accuracy: 99.91% | Parameters: {'ccp_alpha': 0.004, 'max_depth': 30, 'min_samples_leaf': 1, 'min_samples_split': 10}\n",
      "Mean Accuracy: 99.91% | Parameters: {'ccp_alpha': 0.004, 'max_depth': 30, 'min_samples_leaf': 2, 'min_samples_split': 2}\n",
      "Mean Accuracy: 99.91% | Parameters: {'ccp_alpha': 0.004, 'max_depth': 30, 'min_samples_leaf': 2, 'min_samples_split': 5}\n",
      "Mean Accuracy: 99.91% | Parameters: {'ccp_alpha': 0.004, 'max_depth': 30, 'min_samples_leaf': 2, 'min_samples_split': 10}\n",
      "Mean Accuracy: 99.91% | Parameters: {'ccp_alpha': 0.004, 'max_depth': 30, 'min_samples_leaf': 4, 'min_samples_split': 2}\n",
      "Mean Accuracy: 99.91% | Parameters: {'ccp_alpha': 0.004, 'max_depth': 30, 'min_samples_leaf': 4, 'min_samples_split': 5}\n",
      "Mean Accuracy: 99.91% | Parameters: {'ccp_alpha': 0.004, 'max_depth': 30, 'min_samples_leaf': 4, 'min_samples_split': 10}\n"
     ]
    }
   ],
   "source": [
    "# Print results for Decision Tree\n",
    "print(\"Decision Tree GridSearchCV Results:\")\n",
    "print(\"Best Parameters: \", dt2_grid_search.best_params_)\n",
    "print(\"Best Cross-validated Accuracy: {:.2f}%\".format(dt2_grid_search.best_score_ * 100))\n",
    "\n",
    "# Print all results (optional)\n",
    "print(\"\\nAll Results:\")\n",
    "for mean_score, params in zip(dt2_grid_search.cv_results_['mean_test_score'], dt2_grid_search.cv_results_['params']):\n",
    "    print(\"Mean Accuracy: {:.2f}% | Parameters: {}\".format(mean_score * 100, params))"
   ]
  },
  {
   "cell_type": "code",
   "execution_count": 41,
   "metadata": {},
   "outputs": [
    {
     "name": "stdout",
     "output_type": "stream",
     "text": [
      "\n",
      "AdaBoost GridSearchCV Results:\n",
      "Best Parameters:  {'learning_rate': 0.01, 'n_estimators': 50}\n",
      "Best Cross-validated Accuracy: 99.96%\n",
      "\n",
      "All Results:\n",
      "Mean Accuracy: 99.96% | Parameters: {'learning_rate': 0.01, 'n_estimators': 50}\n",
      "Mean Accuracy: 99.96% | Parameters: {'learning_rate': 0.01, 'n_estimators': 100}\n",
      "Mean Accuracy: 99.96% | Parameters: {'learning_rate': 0.01, 'n_estimators': 200}\n",
      "Mean Accuracy: 99.96% | Parameters: {'learning_rate': 0.1, 'n_estimators': 50}\n",
      "Mean Accuracy: 99.96% | Parameters: {'learning_rate': 0.1, 'n_estimators': 100}\n",
      "Mean Accuracy: 99.96% | Parameters: {'learning_rate': 0.1, 'n_estimators': 200}\n",
      "Mean Accuracy: 99.96% | Parameters: {'learning_rate': 0.5, 'n_estimators': 50}\n",
      "Mean Accuracy: 99.96% | Parameters: {'learning_rate': 0.5, 'n_estimators': 100}\n",
      "Mean Accuracy: 99.96% | Parameters: {'learning_rate': 0.5, 'n_estimators': 200}\n",
      "Mean Accuracy: 99.96% | Parameters: {'learning_rate': 1.0, 'n_estimators': 50}\n",
      "Mean Accuracy: 99.96% | Parameters: {'learning_rate': 1.0, 'n_estimators': 100}\n",
      "Mean Accuracy: 99.96% | Parameters: {'learning_rate': 1.0, 'n_estimators': 200}\n"
     ]
    }
   ],
   "source": [
    "# Print results for AdaBoost\n",
    "print(\"\\nAdaBoost GridSearchCV Results:\")\n",
    "print(\"Best Parameters: \", adaboost_grid_search.best_params_)\n",
    "print(\"Best Cross-validated Accuracy: {:.2f}%\".format(adaboost_grid_search.best_score_ * 100))\n",
    "\n",
    "# Print all results (optional)\n",
    "print(\"\\nAll Results:\")\n",
    "for mean_score, params in zip(adaboost_grid_search.cv_results_['mean_test_score'], adaboost_grid_search.cv_results_['params']):\n",
    "    print(\"Mean Accuracy: {:.2f}% | Parameters: {}\".format(mean_score * 100, params))"
   ]
  },
  {
   "cell_type": "markdown",
   "metadata": {},
   "source": [
    "# **Tugas 3**"
   ]
  },
  {
   "cell_type": "markdown",
   "metadata": {},
   "source": [
    "### Import Library"
   ]
  },
  {
   "cell_type": "code",
   "execution_count": 1,
   "metadata": {},
   "outputs": [],
   "source": [
    "import numpy as np\n",
    "import pandas as pd\n",
    "from sklearn.model_selection import train_test_split, GridSearchCV\n",
    "from sklearn.ensemble import VotingClassifier\n",
    "from sklearn.linear_model import LogisticRegression\n",
    "from sklearn.svm import SVC\n",
    "from sklearn.tree import DecisionTreeClassifier\n",
    "from sklearn.datasets import load_diabetes\n",
    "from sklearn.metrics import accuracy_score\n",
    "from sklearn.preprocessing import StandardScaler"
   ]
  },
  {
   "cell_type": "markdown",
   "metadata": {},
   "source": [
    "### Persiapan Data"
   ]
  },
  {
   "cell_type": "code",
   "execution_count": 2,
   "metadata": {},
   "outputs": [
    {
     "data": {
      "text/html": [
       "<div>\n",
       "<style scoped>\n",
       "    .dataframe tbody tr th:only-of-type {\n",
       "        vertical-align: middle;\n",
       "    }\n",
       "\n",
       "    .dataframe tbody tr th {\n",
       "        vertical-align: top;\n",
       "    }\n",
       "\n",
       "    .dataframe thead th {\n",
       "        text-align: right;\n",
       "    }\n",
       "</style>\n",
       "<table border=\"1\" class=\"dataframe\">\n",
       "  <thead>\n",
       "    <tr style=\"text-align: right;\">\n",
       "      <th></th>\n",
       "      <th>Pregnancies</th>\n",
       "      <th>Glucose</th>\n",
       "      <th>BloodPressure</th>\n",
       "      <th>SkinThickness</th>\n",
       "      <th>Insulin</th>\n",
       "      <th>BMI</th>\n",
       "      <th>DiabetesPedigreeFunction</th>\n",
       "      <th>Age</th>\n",
       "      <th>Outcome</th>\n",
       "    </tr>\n",
       "  </thead>\n",
       "  <tbody>\n",
       "    <tr>\n",
       "      <th>0</th>\n",
       "      <td>6</td>\n",
       "      <td>148</td>\n",
       "      <td>72</td>\n",
       "      <td>35</td>\n",
       "      <td>0</td>\n",
       "      <td>33.6</td>\n",
       "      <td>0.627</td>\n",
       "      <td>50</td>\n",
       "      <td>1</td>\n",
       "    </tr>\n",
       "    <tr>\n",
       "      <th>1</th>\n",
       "      <td>1</td>\n",
       "      <td>85</td>\n",
       "      <td>66</td>\n",
       "      <td>29</td>\n",
       "      <td>0</td>\n",
       "      <td>26.6</td>\n",
       "      <td>0.351</td>\n",
       "      <td>31</td>\n",
       "      <td>0</td>\n",
       "    </tr>\n",
       "    <tr>\n",
       "      <th>2</th>\n",
       "      <td>8</td>\n",
       "      <td>183</td>\n",
       "      <td>64</td>\n",
       "      <td>0</td>\n",
       "      <td>0</td>\n",
       "      <td>23.3</td>\n",
       "      <td>0.672</td>\n",
       "      <td>32</td>\n",
       "      <td>1</td>\n",
       "    </tr>\n",
       "    <tr>\n",
       "      <th>3</th>\n",
       "      <td>1</td>\n",
       "      <td>89</td>\n",
       "      <td>66</td>\n",
       "      <td>23</td>\n",
       "      <td>94</td>\n",
       "      <td>28.1</td>\n",
       "      <td>0.167</td>\n",
       "      <td>21</td>\n",
       "      <td>0</td>\n",
       "    </tr>\n",
       "    <tr>\n",
       "      <th>4</th>\n",
       "      <td>0</td>\n",
       "      <td>137</td>\n",
       "      <td>40</td>\n",
       "      <td>35</td>\n",
       "      <td>168</td>\n",
       "      <td>43.1</td>\n",
       "      <td>2.288</td>\n",
       "      <td>33</td>\n",
       "      <td>1</td>\n",
       "    </tr>\n",
       "  </tbody>\n",
       "</table>\n",
       "</div>"
      ],
      "text/plain": [
       "   Pregnancies  Glucose  BloodPressure  SkinThickness  Insulin   BMI  \\\n",
       "0            6      148             72             35        0  33.6   \n",
       "1            1       85             66             29        0  26.6   \n",
       "2            8      183             64              0        0  23.3   \n",
       "3            1       89             66             23       94  28.1   \n",
       "4            0      137             40             35      168  43.1   \n",
       "\n",
       "   DiabetesPedigreeFunction  Age  Outcome  \n",
       "0                     0.627   50        1  \n",
       "1                     0.351   31        0  \n",
       "2                     0.672   32        1  \n",
       "3                     0.167   21        0  \n",
       "4                     2.288   33        1  "
      ]
     },
     "execution_count": 2,
     "metadata": {},
     "output_type": "execute_result"
    }
   ],
   "source": [
    "data2 = pd.read_csv(\"data/diabetes.csv\")\n",
    "data2.head()"
   ]
  },
  {
   "cell_type": "code",
   "execution_count": 3,
   "metadata": {},
   "outputs": [
    {
     "data": {
      "text/plain": [
       "Index(['Pregnancies', 'Glucose', 'BloodPressure', 'SkinThickness', 'Insulin',\n",
       "       'BMI', 'DiabetesPedigreeFunction', 'Age', 'Outcome'],\n",
       "      dtype='object')"
      ]
     },
     "execution_count": 3,
     "metadata": {},
     "output_type": "execute_result"
    }
   ],
   "source": [
    "# Cek nama kolom\n",
    "data2.columns"
   ]
  },
  {
   "cell_type": "code",
   "execution_count": 4,
   "metadata": {},
   "outputs": [
    {
     "data": {
      "text/plain": [
       "Pregnancies                 0\n",
       "Glucose                     0\n",
       "BloodPressure               0\n",
       "SkinThickness               0\n",
       "Insulin                     0\n",
       "BMI                         0\n",
       "DiabetesPedigreeFunction    0\n",
       "Age                         0\n",
       "Outcome                     0\n",
       "dtype: int64"
      ]
     },
     "execution_count": 4,
     "metadata": {},
     "output_type": "execute_result"
    }
   ],
   "source": [
    "# Cek kolom null\n",
    "data2.isnull().sum()"
   ]
  },
  {
   "cell_type": "code",
   "execution_count": 5,
   "metadata": {},
   "outputs": [],
   "source": [
    "# Pisahkan fitur (features) dan target (target)\n",
    "X = data2.drop('Outcome', axis=1)\n",
    "y = data2['Outcome']"
   ]
  },
  {
   "cell_type": "code",
   "execution_count": 6,
   "metadata": {},
   "outputs": [
    {
     "name": "stdout",
     "output_type": "stream",
     "text": [
      "Pregnancies                 0\n",
      "Glucose                     0\n",
      "BloodPressure               0\n",
      "SkinThickness               0\n",
      "Insulin                     0\n",
      "BMI                         0\n",
      "DiabetesPedigreeFunction    0\n",
      "Age                         0\n",
      "Outcome                     0\n",
      "dtype: int64\n"
     ]
    }
   ],
   "source": [
    "# Mengecek nilai NaN di setiap kolom\n",
    "nan_values_per_column = data2.isna().sum()\n",
    "\n",
    "# Menampilkan hasil\n",
    "print(nan_values_per_column)"
   ]
  },
  {
   "cell_type": "code",
   "execution_count": 7,
   "metadata": {},
   "outputs": [
    {
     "name": "stdout",
     "output_type": "stream",
     "text": [
      "     Pregnancies  Glucose  BloodPressure  SkinThickness  Insulin   BMI  \\\n",
      "0              6      148             72             35        0  33.6   \n",
      "1              1       85             66             29        0  26.6   \n",
      "2              8      183             64              0        0  23.3   \n",
      "3              1       89             66             23       94  28.1   \n",
      "4              0      137             40             35      168  43.1   \n",
      "..           ...      ...            ...            ...      ...   ...   \n",
      "763           10      101             76             48      180  32.9   \n",
      "764            2      122             70             27        0  36.8   \n",
      "765            5      121             72             23      112  26.2   \n",
      "766            1      126             60              0        0  30.1   \n",
      "767            1       93             70             31        0  30.4   \n",
      "\n",
      "     DiabetesPedigreeFunction  Age  Outcome  \n",
      "0                       0.627   50        1  \n",
      "1                       0.351   31        0  \n",
      "2                       0.672   32        1  \n",
      "3                       0.167   21        0  \n",
      "4                       2.288   33        1  \n",
      "..                        ...  ...      ...  \n",
      "763                     0.171   63        0  \n",
      "764                     0.340   27        0  \n",
      "765                     0.245   30        0  \n",
      "766                     0.349   47        1  \n",
      "767                     0.315   23        0  \n",
      "\n",
      "[768 rows x 9 columns]\n"
     ]
    }
   ],
   "source": [
    "# Mengganti semua nilai NaN dengan 0\n",
    "data2_filled = data2.fillna(0.0)\n",
    "\n",
    "# Menampilkan hasil\n",
    "print(data2_filled)"
   ]
  },
  {
   "cell_type": "markdown",
   "metadata": {},
   "source": [
    "### Data Split"
   ]
  },
  {
   "cell_type": "code",
   "execution_count": 8,
   "metadata": {},
   "outputs": [],
   "source": [
    "# Membagi data menjadi set pelatihan dan pengujian\n",
    "X_train, X_test, y_train, y_test = train_test_split(X, y, test_size=0.3, random_state=42)"
   ]
  },
  {
   "cell_type": "markdown",
   "metadata": {},
   "source": [
    "### Normalisasi"
   ]
  },
  {
   "cell_type": "code",
   "execution_count": 9,
   "metadata": {},
   "outputs": [],
   "source": [
    "scaler = StandardScaler()\n",
    "X_train_scaled = scaler.fit_transform(X_train)\n",
    "X_test_scaled = scaler.transform(X_test)"
   ]
  },
  {
   "cell_type": "markdown",
   "metadata": {},
   "source": [
    "### Non-Hyperparameter Tuning"
   ]
  },
  {
   "cell_type": "markdown",
   "metadata": {},
   "source": [
    "#### Make Model"
   ]
  },
  {
   "cell_type": "code",
   "execution_count": 17,
   "metadata": {},
   "outputs": [],
   "source": [
    "# Membuat klasifikasi individu\n",
    "logreg_classifier = LogisticRegression(random_state=42)\n",
    "svm_classifier = SVC(kernel='poly', degree=3, random_state=42)\n",
    "dt_classifier = DecisionTreeClassifier(random_state=42)"
   ]
  },
  {
   "cell_type": "code",
   "execution_count": 18,
   "metadata": {},
   "outputs": [],
   "source": [
    "# Membuat klasifikasi penggabungan dengan voting\n",
    "voting_classifier = VotingClassifier(\n",
    "    estimators=[\n",
    "        ('logreg', logreg_classifier),\n",
    "        ('svm', svm_classifier),\n",
    "        ('dt', dt_classifier)\n",
    "    ],\n",
    "    voting='hard'\n",
    ")"
   ]
  },
  {
   "cell_type": "markdown",
   "metadata": {},
   "source": [
    "#### Melatih Model"
   ]
  },
  {
   "cell_type": "code",
   "execution_count": 51,
   "metadata": {},
   "outputs": [
    {
     "data": {
      "text/html": [
       "<style>#sk-container-id-7 {color: black;}#sk-container-id-7 pre{padding: 0;}#sk-container-id-7 div.sk-toggleable {background-color: white;}#sk-container-id-7 label.sk-toggleable__label {cursor: pointer;display: block;width: 100%;margin-bottom: 0;padding: 0.3em;box-sizing: border-box;text-align: center;}#sk-container-id-7 label.sk-toggleable__label-arrow:before {content: \"▸\";float: left;margin-right: 0.25em;color: #696969;}#sk-container-id-7 label.sk-toggleable__label-arrow:hover:before {color: black;}#sk-container-id-7 div.sk-estimator:hover label.sk-toggleable__label-arrow:before {color: black;}#sk-container-id-7 div.sk-toggleable__content {max-height: 0;max-width: 0;overflow: hidden;text-align: left;background-color: #f0f8ff;}#sk-container-id-7 div.sk-toggleable__content pre {margin: 0.2em;color: black;border-radius: 0.25em;background-color: #f0f8ff;}#sk-container-id-7 input.sk-toggleable__control:checked~div.sk-toggleable__content {max-height: 200px;max-width: 100%;overflow: auto;}#sk-container-id-7 input.sk-toggleable__control:checked~label.sk-toggleable__label-arrow:before {content: \"▾\";}#sk-container-id-7 div.sk-estimator input.sk-toggleable__control:checked~label.sk-toggleable__label {background-color: #d4ebff;}#sk-container-id-7 div.sk-label input.sk-toggleable__control:checked~label.sk-toggleable__label {background-color: #d4ebff;}#sk-container-id-7 input.sk-hidden--visually {border: 0;clip: rect(1px 1px 1px 1px);clip: rect(1px, 1px, 1px, 1px);height: 1px;margin: -1px;overflow: hidden;padding: 0;position: absolute;width: 1px;}#sk-container-id-7 div.sk-estimator {font-family: monospace;background-color: #f0f8ff;border: 1px dotted black;border-radius: 0.25em;box-sizing: border-box;margin-bottom: 0.5em;}#sk-container-id-7 div.sk-estimator:hover {background-color: #d4ebff;}#sk-container-id-7 div.sk-parallel-item::after {content: \"\";width: 100%;border-bottom: 1px solid gray;flex-grow: 1;}#sk-container-id-7 div.sk-label:hover label.sk-toggleable__label {background-color: #d4ebff;}#sk-container-id-7 div.sk-serial::before {content: \"\";position: absolute;border-left: 1px solid gray;box-sizing: border-box;top: 0;bottom: 0;left: 50%;z-index: 0;}#sk-container-id-7 div.sk-serial {display: flex;flex-direction: column;align-items: center;background-color: white;padding-right: 0.2em;padding-left: 0.2em;position: relative;}#sk-container-id-7 div.sk-item {position: relative;z-index: 1;}#sk-container-id-7 div.sk-parallel {display: flex;align-items: stretch;justify-content: center;background-color: white;position: relative;}#sk-container-id-7 div.sk-item::before, #sk-container-id-7 div.sk-parallel-item::before {content: \"\";position: absolute;border-left: 1px solid gray;box-sizing: border-box;top: 0;bottom: 0;left: 50%;z-index: -1;}#sk-container-id-7 div.sk-parallel-item {display: flex;flex-direction: column;z-index: 1;position: relative;background-color: white;}#sk-container-id-7 div.sk-parallel-item:first-child::after {align-self: flex-end;width: 50%;}#sk-container-id-7 div.sk-parallel-item:last-child::after {align-self: flex-start;width: 50%;}#sk-container-id-7 div.sk-parallel-item:only-child::after {width: 0;}#sk-container-id-7 div.sk-dashed-wrapped {border: 1px dashed gray;margin: 0 0.4em 0.5em 0.4em;box-sizing: border-box;padding-bottom: 0.4em;background-color: white;}#sk-container-id-7 div.sk-label label {font-family: monospace;font-weight: bold;display: inline-block;line-height: 1.2em;}#sk-container-id-7 div.sk-label-container {text-align: center;}#sk-container-id-7 div.sk-container {/* jupyter's `normalize.less` sets `[hidden] { display: none; }` but bootstrap.min.css set `[hidden] { display: none !important; }` so we also need the `!important` here to be able to override the default hidden behavior on the sphinx rendered scikit-learn.org. See: https://github.com/scikit-learn/scikit-learn/issues/21755 */display: inline-block !important;position: relative;}#sk-container-id-7 div.sk-text-repr-fallback {display: none;}</style><div id=\"sk-container-id-7\" class=\"sk-top-container\"><div class=\"sk-text-repr-fallback\"><pre>VotingClassifier(estimators=[(&#x27;logreg&#x27;, LogisticRegression(random_state=42)),\n",
       "                             (&#x27;svm&#x27;, SVC(kernel=&#x27;poly&#x27;, random_state=42)),\n",
       "                             (&#x27;dt&#x27;, DecisionTreeClassifier(random_state=42))])</pre><b>In a Jupyter environment, please rerun this cell to show the HTML representation or trust the notebook. <br />On GitHub, the HTML representation is unable to render, please try loading this page with nbviewer.org.</b></div><div class=\"sk-container\" hidden><div class=\"sk-item sk-dashed-wrapped\"><div class=\"sk-label-container\"><div class=\"sk-label sk-toggleable\"><input class=\"sk-toggleable__control sk-hidden--visually\" id=\"sk-estimator-id-22\" type=\"checkbox\" ><label for=\"sk-estimator-id-22\" class=\"sk-toggleable__label sk-toggleable__label-arrow\">VotingClassifier</label><div class=\"sk-toggleable__content\"><pre>VotingClassifier(estimators=[(&#x27;logreg&#x27;, LogisticRegression(random_state=42)),\n",
       "                             (&#x27;svm&#x27;, SVC(kernel=&#x27;poly&#x27;, random_state=42)),\n",
       "                             (&#x27;dt&#x27;, DecisionTreeClassifier(random_state=42))])</pre></div></div></div><div class=\"sk-parallel\"><div class=\"sk-parallel-item\"><div class=\"sk-item\"><div class=\"sk-label-container\"><div class=\"sk-label sk-toggleable\"><label>logreg</label></div></div><div class=\"sk-serial\"><div class=\"sk-item\"><div class=\"sk-estimator sk-toggleable\"><input class=\"sk-toggleable__control sk-hidden--visually\" id=\"sk-estimator-id-23\" type=\"checkbox\" ><label for=\"sk-estimator-id-23\" class=\"sk-toggleable__label sk-toggleable__label-arrow\">LogisticRegression</label><div class=\"sk-toggleable__content\"><pre>LogisticRegression(random_state=42)</pre></div></div></div></div></div></div><div class=\"sk-parallel-item\"><div class=\"sk-item\"><div class=\"sk-label-container\"><div class=\"sk-label sk-toggleable\"><label>svm</label></div></div><div class=\"sk-serial\"><div class=\"sk-item\"><div class=\"sk-estimator sk-toggleable\"><input class=\"sk-toggleable__control sk-hidden--visually\" id=\"sk-estimator-id-24\" type=\"checkbox\" ><label for=\"sk-estimator-id-24\" class=\"sk-toggleable__label sk-toggleable__label-arrow\">SVC</label><div class=\"sk-toggleable__content\"><pre>SVC(kernel=&#x27;poly&#x27;, random_state=42)</pre></div></div></div></div></div></div><div class=\"sk-parallel-item\"><div class=\"sk-item\"><div class=\"sk-label-container\"><div class=\"sk-label sk-toggleable\"><label>dt</label></div></div><div class=\"sk-serial\"><div class=\"sk-item\"><div class=\"sk-estimator sk-toggleable\"><input class=\"sk-toggleable__control sk-hidden--visually\" id=\"sk-estimator-id-25\" type=\"checkbox\" ><label for=\"sk-estimator-id-25\" class=\"sk-toggleable__label sk-toggleable__label-arrow\">DecisionTreeClassifier</label><div class=\"sk-toggleable__content\"><pre>DecisionTreeClassifier(random_state=42)</pre></div></div></div></div></div></div></div></div></div></div>"
      ],
      "text/plain": [
       "VotingClassifier(estimators=[('logreg', LogisticRegression(random_state=42)),\n",
       "                             ('svm', SVC(kernel='poly', random_state=42)),\n",
       "                             ('dt', DecisionTreeClassifier(random_state=42))])"
      ]
     },
     "execution_count": 51,
     "metadata": {},
     "output_type": "execute_result"
    }
   ],
   "source": [
    "# Menyesuaikan klasifikasi penggabungan pada data pelatihan\n",
    "voting_classifier.fit(X_train_scaled, y_train)"
   ]
  },
  {
   "cell_type": "markdown",
   "metadata": {},
   "source": [
    "#### Evaluasi Model"
   ]
  },
  {
   "cell_type": "code",
   "execution_count": 52,
   "metadata": {},
   "outputs": [
    {
     "name": "stdout",
     "output_type": "stream",
     "text": [
      "Akurasi Voting Ensemble: 76.19%\n"
     ]
    }
   ],
   "source": [
    "# Prediksi pada set pengujian\n",
    "y_pred = voting_classifier.predict(X_test_scaled)\n",
    "\n",
    "# Menghitung akurasi\n",
    "akurasi = accuracy_score(y_test, y_pred)\n",
    "print(\"Akurasi Voting Ensemble: {:.2f}%\".format(akurasi * 100))"
   ]
  },
  {
   "cell_type": "markdown",
   "metadata": {},
   "source": [
    "### Hyperparameter Tuning"
   ]
  },
  {
   "cell_type": "markdown",
   "metadata": {},
   "source": [
    "#### Parameters"
   ]
  },
  {
   "cell_type": "code",
   "execution_count": 10,
   "metadata": {},
   "outputs": [],
   "source": [
    "# Membuat klasifikasi individu dengan hyperparameter tuning\n",
    "param_grid_logreg = {\n",
    "    'C': [1, 10, 100],\n",
    "    'penalty': ['l2']\n",
    "}\n",
    "\n",
    "param_grid_svm = {\n",
    "    'C': [1, 10, 100],\n",
    "    'gamma': [1, 10, 100],\n",
    "    'kernel': ['linear', 'rbf', 'poly'],\n",
    "    'degree': [2, 3, 4]\n",
    "}\n",
    "\n",
    "param_grid_dt = {\n",
    "    'max_depth': [None, 10, 20, 30],\n",
    "    'min_samples_split': [2, 5, 10]\n",
    "}"
   ]
  },
  {
   "cell_type": "markdown",
   "metadata": {},
   "source": [
    "#### Make model"
   ]
  },
  {
   "cell_type": "code",
   "execution_count": 11,
   "metadata": {},
   "outputs": [],
   "source": [
    "# Membuat klasifikasi individu\n",
    "logreg_classifier = LogisticRegression(random_state=42)\n",
    "svm_classifier = SVC(random_state=42)\n",
    "dt_classifier = DecisionTreeClassifier(random_state=42)"
   ]
  },
  {
   "cell_type": "markdown",
   "metadata": {},
   "source": [
    "#### GridSearchCV"
   ]
  },
  {
   "cell_type": "code",
   "execution_count": 12,
   "metadata": {},
   "outputs": [],
   "source": [
    "# List untuk menyederhanakan pemanggilan fit\n",
    "grids = [GridSearchCV(logreg_classifier, param_grid_logreg, cv=5, scoring='accuracy'),\n",
    "         GridSearchCV(svm_classifier, param_grid_svm, cv=5, scoring='accuracy'),\n",
    "         GridSearchCV(dt_classifier, param_grid_dt, cv=5, scoring='accuracy')]\n",
    "\n",
    "# Loop untuk fitting\n",
    "for grid in grids:\n",
    "    grid.fit(X_train_scaled, y_train)"
   ]
  },
  {
   "cell_type": "markdown",
   "metadata": {},
   "source": [
    "#### Training dengan Voting"
   ]
  },
  {
   "cell_type": "code",
   "execution_count": 11,
   "metadata": {},
   "outputs": [],
   "source": [
    "# Membuat klasifikasi penggabungan dengan voting\n",
    "voting_classifier = VotingClassifier(\n",
    "    estimators=[\n",
    "        ('logreg', grids[0]), \n",
    "        ('svm', grids[1]),  \n",
    "        ('dt', grids[2]) \n",
    "    ],\n",
    "    voting='hard'\n",
    ")\n",
    "\n",
    "voting_classifier.fit(X_train_scaled, y_train)"
   ]
  },
  {
   "cell_type": "markdown",
   "metadata": {},
   "source": [
    "#### Melatih Model"
   ]
  },
  {
   "cell_type": "code",
   "execution_count": 12,
   "metadata": {},
   "outputs": [],
   "source": [
    "# Menyesuaikan klasifikasi penggabungan pada data pelatihan\n",
    "voting_classifier.fit(X_train_scaled, y_train)"
   ]
  },
  {
   "cell_type": "markdown",
   "metadata": {},
   "source": [
    "#### Evaluasi Model"
   ]
  },
  {
   "cell_type": "code",
   "execution_count": null,
   "metadata": {},
   "outputs": [],
   "source": [
    "# Prediksi pada set pengujian\n",
    "y_pred = voting_classifier.predict(X_test_scaled)"
   ]
  },
  {
   "cell_type": "code",
   "execution_count": null,
   "metadata": {},
   "outputs": [],
   "source": [
    "# Mencetak model terbaik\n",
    "print(\"Best Logistic Regression Model:\",  grids[0])\n",
    "print(\"Best SVM Model:\",  grids[1])\n",
    "print(\"Best Decision Tree Model:\",  grids[2])"
   ]
  },
  {
   "cell_type": "code",
   "execution_count": null,
   "metadata": {},
   "outputs": [
    {
     "name": "stdout",
     "output_type": "stream",
     "text": [
      "Akurasi Voting Ensemble: 76.19%\n"
     ]
    }
   ],
   "source": [
    "# Menghitung akurasi\n",
    "akurasi = accuracy_score(y_test, y_pred)\n",
    "print(\"Akurasi Voting Ensemble setelah Hyperparameter Tuning: {:.2f}%\".format(akurasi * 100))"
   ]
  }
 ],
 "metadata": {
  "kernelspec": {
   "display_name": "base",
   "language": "python",
   "name": "python3"
  },
  "language_info": {
   "codemirror_mode": {
    "name": "ipython",
    "version": 3
   },
   "file_extension": ".py",
   "mimetype": "text/x-python",
   "name": "python",
   "nbconvert_exporter": "python",
   "pygments_lexer": "ipython3",
   "version": "3.11.4"
  },
  "orig_nbformat": 4
 },
 "nbformat": 4,
 "nbformat_minor": 2
}
