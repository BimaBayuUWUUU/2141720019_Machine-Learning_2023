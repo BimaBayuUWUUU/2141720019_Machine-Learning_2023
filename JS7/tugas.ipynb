{
 "cells": [
  {
   "cell_type": "markdown",
   "metadata": {},
   "source": [
    "# **BIMA BAYU SAPUTRA**\n",
    "# **08 || 2141720019**\n",
    "# **TI-3H**\n",
    "# **Jobsheet 7**"
   ]
  },
  {
   "cell_type": "code",
   "execution_count": null,
   "metadata": {},
   "outputs": [],
   "source": []
  }
 ],
 "metadata": {
  "language_info": {
   "name": "python"
  }
 },
 "nbformat": 4,
 "nbformat_minor": 2
}
